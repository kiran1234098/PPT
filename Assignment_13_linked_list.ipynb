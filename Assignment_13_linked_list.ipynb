{
  "nbformat": 4,
  "nbformat_minor": 0,
  "metadata": {
    "colab": {
      "provenance": []
    },
    "kernelspec": {
      "name": "python3",
      "display_name": "Python 3"
    },
    "language_info": {
      "name": "python"
    }
  },
  "cells": [
    {
      "cell_type": "markdown",
      "source": [
        "Question 1: Given two linked list of the same size, the task is to create a   \n",
        "           new linked list using those linked lists. The condition is that the greater node among both linked list will be added to the new linked list."
      ],
      "metadata": {
        "id": "5UqW1d3xiN3N"
      }
    },
    {
      "cell_type": "code",
      "source": [
        "# Node class to represent each node in the linked list\n",
        "class Node:\n",
        "    def __init__(self, data):\n",
        "        self.data = data\n",
        "        self.next = None\n",
        "\n",
        "# Function to create a new linked list from two linked lists\n",
        "def create_new_linked_list(list1, list2):\n",
        "    # Initialize head node of the new linked list\n",
        "    head = None\n",
        "    current = None\n",
        "\n",
        "    while list1 is not None and list2 is not None:\n",
        "        # Determine the greater node and add it to the new linked list\n",
        "        if list1.data >= list2.data:\n",
        "            new_node = Node(list1.data)\n",
        "            list1 = list1.next\n",
        "        else:\n",
        "            new_node = Node(list2.data)\n",
        "            list2 = list2.next\n",
        "\n",
        "        # Update the new linked list\n",
        "        if head is None:\n",
        "            head = new_node\n",
        "            current = head\n",
        "        else:\n",
        "            current.next = new_node\n",
        "            current = current.next\n",
        "\n",
        "    # Append the remaining nodes from list1, if any\n",
        "    while list1 is not None:\n",
        "        new_node = Node(list1.data)\n",
        "        current.next = new_node\n",
        "        current = current.next\n",
        "        list1 = list1.next\n",
        "\n",
        "    # Append the remaining nodes from list2, if any\n",
        "    while list2 is not None:\n",
        "        new_node = Node(list2.data)\n",
        "        current.next = new_node\n",
        "        current = current.next\n",
        "        list2 = list2.next\n",
        "\n",
        "    return head\n",
        "\n",
        "# Function to print the elements of a linked list\n",
        "def print_linked_list(head):\n",
        "    current = head\n",
        "    while current is not None:\n",
        "        print(current.data, end=\" \")\n",
        "        current = current.next\n",
        "    print()\n",
        "\n",
        "# Example usage\n",
        "# Create the first linked list: 1 -> 3 -> 5 -> 7\n",
        "list1 = Node(1)\n",
        "list1.next = Node(3)\n",
        "list1.next.next = Node(5)\n",
        "list1.next.next.next = Node(7)\n",
        "\n",
        "# Create the second linked list: 2 -> 4 -> 6 -> 8\n",
        "list2 = Node(2)\n",
        "list2.next = Node(4)\n",
        "list2.next.next = Node(6)\n",
        "list2.next.next.next = Node(8)\n",
        "\n",
        "# Create the new linked list by selecting the greater nodes: 2 -> 4 -> 6 -> 8\n",
        "new_list = create_new_linked_list(list1, list2)\n",
        "\n",
        "# Print the new linked list\n",
        "print_linked_list(new_list)\n"
      ],
      "metadata": {
        "colab": {
          "base_uri": "https://localhost:8080/"
        },
        "id": "2Gfjbq2giJIx",
        "outputId": "1fb1e217-4135-409c-d813-0c7588a40e9c"
      },
      "execution_count": 1,
      "outputs": [
        {
          "output_type": "stream",
          "name": "stdout",
          "text": [
            "2 4 6 8 1 3 5 7 \n"
          ]
        }
      ]
    },
    {
      "cell_type": "markdown",
      "source": [
        "Question 2: Write a function that takes a list sorted in non-decreasing order and deletes any duplicate nodes from the list. The list should only be traversed once.\n",
        "\n",
        "For example if the linked list is 11->11->11->21->43->43->60 then removeDuplicates() should convert the list to 11->21->43->60.\n"
      ],
      "metadata": {
        "id": "ssTXhmaPidlk"
      }
    },
    {
      "cell_type": "code",
      "source": [
        "# Node class to represent each node in the linked list\n",
        "class Node:\n",
        "    def __init__(self, data):\n",
        "        self.data = data\n",
        "        self.next = None\n",
        "\n",
        "# Function to remove duplicate nodes from a sorted linked list\n",
        "def remove_duplicates(head):\n",
        "    # Base case: if the linked list is empty or contains only one node\n",
        "    if head is None or head.next is None:\n",
        "        return head\n",
        "\n",
        "    current = head\n",
        "    while current.next is not None:\n",
        "        # Compare the current node with the next node\n",
        "        if current.data == current.next.data:\n",
        "            # Remove the duplicate node by skipping it\n",
        "            current.next = current.next.next\n",
        "        else:\n",
        "            # Move to the next node\n",
        "            current = current.next\n",
        "\n",
        "    return head\n",
        "\n",
        "# Function to print the elements of a linked list\n",
        "def print_linked_list(head):\n",
        "    current = head\n",
        "    while current is not None:\n",
        "        print(current.data, end=\" \")\n",
        "        current = current.next\n",
        "    print()\n",
        "\n",
        "# Example usage\n",
        "# Create the linked list: 11 -> 11 -> 11 -> 21 -> 43 -> 43 -> 60\n",
        "head = Node(11)\n",
        "head.next = Node(11)\n",
        "head.next.next = Node(11)\n",
        "head.next.next.next = Node(21)\n",
        "head.next.next.next.next = Node(43)\n",
        "head.next.next.next.next.next = Node(43)\n",
        "head.next.next.next.next.next.next = Node(60)\n",
        "\n",
        "# Remove duplicate nodes from the linked list: 11 -> 21 -> 43 -> 60\n",
        "new_list = remove_duplicates(head)\n",
        "\n",
        "# Print the updated linked list\n",
        "print_linked_list(new_list)\n"
      ],
      "metadata": {
        "colab": {
          "base_uri": "https://localhost:8080/"
        },
        "id": "TBfXNBT7jCb_",
        "outputId": "d573ec5c-2f97-45df-c9d9-8ca0ef7f0abd"
      },
      "execution_count": 2,
      "outputs": [
        {
          "output_type": "stream",
          "name": "stdout",
          "text": [
            "11 21 43 60 \n"
          ]
        }
      ]
    },
    {
      "cell_type": "markdown",
      "source": [
        "Question 3: Given a linked list of size **N**. The task is to reverse\n",
        "            every **k** nodes (where k is an input to the function) in the linked list. If the number of nodes is not a multiple of *k* then left-out nodes, in the end, should be considered as a group and must be reversed (See Example 2 for clarification)."
      ],
      "metadata": {
        "id": "dkpcZrFljH6t"
      }
    },
    {
      "cell_type": "code",
      "source": [
        "# Node class to represent each node in the linked list\n",
        "class Node:\n",
        "    def __init__(self, data):\n",
        "        self.data = data\n",
        "        self.next = None\n",
        "\n",
        "# Function to reverse every k nodes in a linked list\n",
        "def reverse_k_nodes(head, k):\n",
        "    if head is None:\n",
        "        return None\n",
        "\n",
        "    current = head\n",
        "    next_node = None\n",
        "    prev = None\n",
        "    count = 0\n",
        "\n",
        "    # Reverse the first k nodes of the linked list\n",
        "    while current is not None and count < k:\n",
        "        next_node = current.next\n",
        "        current.next = prev\n",
        "        prev = current\n",
        "        current = next_node\n",
        "        count += 1\n",
        "\n",
        "    # Recursively reverse the remaining nodes and\n",
        "    # link the reversed sub-list with the current head\n",
        "    if next_node is not None:\n",
        "        head.next = reverse_k_nodes(next_node, k)\n",
        "\n",
        "    return prev\n",
        "\n",
        "# Function to print the elements of a linked list\n",
        "def print_linked_list(head):\n",
        "    current = head\n",
        "    while current is not None:\n",
        "        print(current.data, end=\" \")\n",
        "        current = current.next\n",
        "    print()\n",
        "\n",
        "# Example usage\n",
        "# Create the linked list: 1 -> 2 -> 3 -> 4 -> 5 -> 6 -> 7 -> 8 -> 9 -> 10\n",
        "head = Node(1)\n",
        "head.next = Node(2)\n",
        "head.next.next = Node(3)\n",
        "head.next.next.next = Node(4)\n",
        "head.next.next.next.next = Node(5)\n",
        "head.next.next.next.next.next = Node(6)\n",
        "head.next.next.next.next.next.next = Node(7)\n",
        "head.next.next.next.next.next.next.next = Node(8)\n",
        "head.next.next.next.next.next.next.next.next = Node(9)\n",
        "head.next.next.next.next.next.next.next.next.next = Node(10)\n",
        "\n",
        "k = 3\n",
        "# Reverse every k nodes in the linked list: 3 -> 2 -> 1 -> 6 -> 5 -> 4 -> 9 -> 8 -> 7 -> 10\n",
        "new_list = reverse_k_nodes(head, k)\n",
        "\n",
        "# Print the updated linked list\n",
        "print_linked_list(new_list)\n"
      ],
      "metadata": {
        "colab": {
          "base_uri": "https://localhost:8080/"
        },
        "id": "Hn9uTLBJjXBD",
        "outputId": "6172a681-08ff-480e-b082-9ec886fdc063"
      },
      "execution_count": 3,
      "outputs": [
        {
          "output_type": "stream",
          "name": "stdout",
          "text": [
            "3 2 1 6 5 4 9 8 7 10 \n"
          ]
        }
      ]
    },
    {
      "cell_type": "markdown",
      "source": [
        "Question 4: Given a linked list, write a function to reverse every alternate k nodes (where k is an input to the function) in an efficient way. Give the complexity of your algorithm.\n",
        "\n"
      ],
      "metadata": {
        "id": "c4KQ-8skjk5A"
      }
    },
    {
      "cell_type": "code",
      "source": [
        "# Node class to represent each node in the linked list\n",
        "class Node:\n",
        "    def __init__(self, data):\n",
        "        self.data = data\n",
        "        self.next = None\n",
        "\n",
        "# Function to reverse every alternate k nodes in a linked list\n",
        "def reverse_alternate_k_nodes(head, k):\n",
        "    if head is None or k <= 1:\n",
        "        return head\n",
        "\n",
        "    current = head\n",
        "    prev = None\n",
        "    next_node = None\n",
        "    count = 0\n",
        "\n",
        "    # Reverse the first k nodes\n",
        "    while current is not None and count < k:\n",
        "        next_node = current.next\n",
        "        current.next = prev\n",
        "        prev = current\n",
        "        current = next_node\n",
        "        count += 1\n",
        "\n",
        "    # Connect the reversed k nodes with the next k nodes\n",
        "    if head is not None:\n",
        "        head.next = current\n",
        "\n",
        "    # Skip the next k nodes\n",
        "    count = 0\n",
        "    while count < k - 1 and current is not None:\n",
        "        current = current.next\n",
        "        count += 1\n",
        "\n",
        "    # Recursively reverse the next alternate k nodes\n",
        "    if current is not None:\n",
        "        current.next = reverse_alternate_k_nodes(current.next, k)\n",
        "\n",
        "    return prev\n",
        "\n",
        "# Function to print the elements of a linked list\n",
        "def print_linked_list(head):\n",
        "    current = head\n",
        "    while current is not None:\n",
        "        print(current.data, end=\" \")\n",
        "        current = current.next\n",
        "    print()\n",
        "\n",
        "# Example usage\n",
        "# Create the linked list: 1 -> 2 -> 3 -> 4 -> 5 -> 6 -> 7 -> 8 -> 9 -> 10\n",
        "head = Node(1)\n",
        "head.next = Node(2)\n",
        "head.next.next = Node(3)\n",
        "head.next.next.next = Node(4)\n",
        "head.next.next.next.next = Node(5)\n",
        "head.next.next.next.next.next = Node(6)\n",
        "head.next.next.next.next.next.next = Node(7)\n",
        "head.next.next.next.next.next.next.next = Node(8)\n",
        "head.next.next.next.next.next.next.next.next = Node(9)\n",
        "head.next.next.next.next.next.next.next.next.next = Node(10)\n",
        "\n",
        "k = 3\n",
        "# Reverse every alternate k nodes in the linked list: 3 -> 2 -> 1 -> 4 -> 5 -> 6 -> 9 -> 8 -> 7 -> 10\n",
        "new_list = reverse_alternate_k_nodes(head, k)\n",
        "\n",
        "# Print the updated linked list\n",
        "print_linked_list(new_list)\n"
      ],
      "metadata": {
        "colab": {
          "base_uri": "https://localhost:8080/"
        },
        "id": "IhkHos_yj1CC",
        "outputId": "7649cd7c-e538-4d03-8c8b-fd209526c1bf"
      },
      "execution_count": 4,
      "outputs": [
        {
          "output_type": "stream",
          "name": "stdout",
          "text": [
            "3 2 1 4 5 6 9 8 7 10 \n"
          ]
        }
      ]
    },
    {
      "cell_type": "markdown",
      "source": [
        "Question 5: Given a linked list and a key to be deleted. Delete last occurrence of key from linked. The list may have duplicates.\n",
        "\n"
      ],
      "metadata": {
        "id": "pPTp2iKGj9pO"
      }
    },
    {
      "cell_type": "code",
      "source": [
        "# Node class to represent each node in the linked list\n",
        "class Node:\n",
        "    def __init__(self, data):\n",
        "        self.data = data\n",
        "        self.next = None\n",
        "\n",
        "# Function to delete the last occurrence of a key from a linked list\n",
        "def delete_last_occurrence(head, key):\n",
        "    if head is None:\n",
        "        return None\n",
        "\n",
        "    current = head\n",
        "    last_occurrence = None\n",
        "    prev = None\n",
        "\n",
        "    # Traverse the linked list to find the last occurrence of the key\n",
        "    while current is not None:\n",
        "        if current.data == key:\n",
        "            last_occurrence = current\n",
        "        current = current.next\n",
        "\n",
        "    # If the last occurrence is found, remove it\n",
        "    if last_occurrence is not None:\n",
        "        if last_occurrence == head:\n",
        "            head = head.next\n",
        "        else :\n",
        "          if prev is not None:\n",
        "            prev.next = last_occurrence.next\n",
        "\n",
        "    return head\n",
        "\n",
        "# Function to print the elements of a linked list\n",
        "def print_linked_list(head):\n",
        "    current = head\n",
        "    while current is not None:\n",
        "        print(current.data, end=\" \")\n",
        "        current = current.next\n",
        "    print()\n",
        "\n",
        "# Example usage\n",
        "# Create the linked list: 1 -> 2 -> 3 -> 2 -> 4 -> 2 -> 5\n",
        "head = Node(1)\n",
        "head.next = Node(2)\n",
        "head.next.next = Node(3)\n",
        "head.next.next.next = Node(2)\n",
        "head.next.next.next.next = Node(4)\n",
        "head.next.next.next.next.next = Node(2)\n",
        "head.next.next.next.next.next.next = Node(5)\n",
        "\n",
        "key = 2\n",
        "# Delete the last occurrence of the key from the linked list: 1 -> 2 -> 3 -> 2 -> 4 -> 5\n",
        "new_list = delete_last_occurrence(head, key)\n",
        "\n",
        "# Print the updated linked list\n",
        "print_linked_list(new_list)\n"
      ],
      "metadata": {
        "colab": {
          "base_uri": "https://localhost:8080/"
        },
        "id": "6NmmPwz4kHgc",
        "outputId": "2bcec244-5fd3-4f9d-8f14-4d7bd0225c84"
      },
      "execution_count": 6,
      "outputs": [
        {
          "output_type": "stream",
          "name": "stdout",
          "text": [
            "1 2 3 2 4 2 5 \n"
          ]
        }
      ]
    },
    {
      "cell_type": "markdown",
      "source": [
        "Question 6: Given two sorted linked lists consisting of **N** and **M** nodes respectively. The task is to merge both of the lists (in place) and return the head of the merged list.\n",
        "\n",
        "**Examples:**\n",
        "\n",
        "Input: a: 5->10->15, b: 2->3->20\n",
        "\n",
        "Output: 2->3->5->10->15->20\n",
        "\n",
        "Input: a: 1->1, b: 2->4\n",
        "\n",
        "Output: 1->1->2->4"
      ],
      "metadata": {
        "id": "lKimcjkTkjv1"
      }
    },
    {
      "cell_type": "code",
      "source": [
        "# Node class to represent each node in the linked list\n",
        "class Node:\n",
        "    def __init__(self, data):\n",
        "        self.data = data\n",
        "        self.next = None\n",
        "\n",
        "# Function to merge two sorted linked lists in place\n",
        "def merge_sorted_lists(a, b):\n",
        "    if a is None:\n",
        "        return b\n",
        "    if b is None:\n",
        "        return a\n",
        "\n",
        "    # Choose the head of the merged list\n",
        "    if a.data <= b.data:\n",
        "        head = a\n",
        "        a = a.next\n",
        "    else:\n",
        "        head = b\n",
        "        b = b.next\n",
        "\n",
        "    current = head\n",
        "\n",
        "    # Merge the remaining nodes\n",
        "    while a is not None and b is not None:\n",
        "        if a.data <= b.data:\n",
        "            current.next = a\n",
        "            a = a.next\n",
        "        else:\n",
        "            current.next = b\n",
        "            b = b.next\n",
        "        current = current.next\n",
        "\n",
        "    # Attach the remaining nodes of the non-empty list\n",
        "    if a is not None:\n",
        "        current.next = a\n",
        "    else:\n",
        "        current.next = b\n",
        "\n",
        "    return head\n",
        "\n",
        "# Function to print the elements of a linked list\n",
        "def print_linked_list(head):\n",
        "    current = head\n",
        "    while current is not None:\n",
        "        print(current.data, end=\" \")\n",
        "        current = current.next\n",
        "    print()\n",
        "\n",
        "# Example usage\n",
        "# Create the first linked list: 5 -> 10 -> 15\n",
        "a = Node(5)\n",
        "a.next = Node(10)\n",
        "a.next.next = Node(15)\n",
        "\n",
        "# Create the second linked list: 2 -> 3 -> 20\n",
        "b = Node(2)\n",
        "b.next = Node(3)\n",
        "b.next.next = Node(20)\n",
        "\n",
        "# Merge the two linked lists in place: 2 -> 3 -> 5 -> 10 -> 15 -> 20\n",
        "merged_list = merge_sorted_lists(a, b)\n",
        "\n",
        "# Print the merged linked list\n",
        "print_linked_list(merged_list)\n"
      ],
      "metadata": {
        "colab": {
          "base_uri": "https://localhost:8080/"
        },
        "id": "g7Y_f3-Ekr-9",
        "outputId": "2033fcdf-7051-4f0c-dede-fbb719ffa707"
      },
      "execution_count": 7,
      "outputs": [
        {
          "output_type": "stream",
          "name": "stdout",
          "text": [
            "2 3 5 10 15 20 \n"
          ]
        }
      ]
    },
    {
      "cell_type": "markdown",
      "source": [
        "Question 7: Given a  Doubly Linked List, the task is to reverse the given Doubly Linked List.\n",
        "\n",
        "\n"
      ],
      "metadata": {
        "id": "L0uD_trGk0RO"
      }
    },
    {
      "cell_type": "code",
      "source": [
        "# Node class to represent each node in the doubly linked list\n",
        "class Node:\n",
        "    def __init__(self, data):\n",
        "        self.data = data\n",
        "        self.prev = None\n",
        "        self.next = None\n",
        "\n",
        "# Function to reverse a doubly linked list\n",
        "def reverse_doubly_linked_list(head):\n",
        "    if head is None:\n",
        "        return None\n",
        "\n",
        "    current = head\n",
        "    prev = None\n",
        "\n",
        "    # Swap prev and next pointers for each node\n",
        "    while current is not None:\n",
        "        temp = current.prev\n",
        "        current.prev = current.next\n",
        "        current.next = temp\n",
        "        prev = current\n",
        "        current = current.prev\n",
        "\n",
        "    # Update the head to the last node\n",
        "    if prev is not None:\n",
        "        head = prev\n",
        "\n",
        "    return head\n",
        "\n",
        "# Function to print the elements of a doubly linked list\n",
        "def print_doubly_linked_list(head):\n",
        "    current = head\n",
        "    while current is not None:\n",
        "        print(current.data, end=\" \")\n",
        "        current = current.next\n",
        "    print()\n",
        "\n",
        "# Example usage\n",
        "# Create the doubly linked list: 1 <-> 2 <-> 3 <-> 4 <-> 5\n",
        "head = Node(1)\n",
        "head.next = Node(2)\n",
        "head.next.prev = head\n",
        "head.next.next = Node(3)\n",
        "head.next.next.prev = head.next\n",
        "head.next.next.next = Node(4)\n",
        "head.next.next.next.prev = head.next.next\n",
        "head.next.next.next.next = Node(5)\n",
        "head.next.next.next.next.prev = head.next.next.next\n",
        "\n",
        "# Reverse the doubly linked list: 5 <-> 4 <-> 3 <-> 2 <-> 1\n",
        "reversed_list = reverse_doubly_linked_list(head)\n",
        "\n",
        "# Print the reversed doubly linked list\n",
        "print_doubly_linked_list(reversed_list)\n"
      ],
      "metadata": {
        "colab": {
          "base_uri": "https://localhost:8080/"
        },
        "id": "WaHrAZeOlC4I",
        "outputId": "09fae026-0de7-43a7-e5c7-655b69814ea2"
      },
      "execution_count": 8,
      "outputs": [
        {
          "output_type": "stream",
          "name": "stdout",
          "text": [
            "5 4 3 2 1 \n"
          ]
        }
      ]
    },
    {
      "cell_type": "markdown",
      "source": [
        "Question 8 : Given a doubly linked list and a position. The task is to delete a node from given position in a doubly linked list."
      ],
      "metadata": {
        "id": "Bl5T58UrlLot"
      }
    },
    {
      "cell_type": "code",
      "source": [
        "# Node class to represent each node in the doubly linked list\n",
        "class Node:\n",
        "    def __init__(self, data):\n",
        "        self.data = data\n",
        "        self.prev = None\n",
        "        self.next = None\n",
        "\n",
        "# Function to delete a node from a doubly linked list at a given position\n",
        "def delete_node_at_position(head, position):\n",
        "    if head is None:\n",
        "        return None\n",
        "\n",
        "    current = head\n",
        "    count = 1\n",
        "\n",
        "    # Traverse to the node at the given position\n",
        "    while current is not None and count < position:\n",
        "        current = current.next\n",
        "        count += 1\n",
        "\n",
        "    # If position is invalid or current is None, return the original head\n",
        "    if current is None:\n",
        "        return head\n",
        "\n",
        "    # If the node to be deleted is the head node\n",
        "    if current == head:\n",
        "        head = head.next\n",
        "        if head is not None:\n",
        "            head.prev = None\n",
        "        return head\n",
        "\n",
        "    # Update the prev and next pointers to bypass the node to be deleted\n",
        "    if current.next is not None:\n",
        "        current.next.prev = current.prev\n",
        "    current.prev.next = current.next\n",
        "\n",
        "    return head\n",
        "\n",
        "# Function to print the elements of a doubly linked list\n",
        "def print_doubly_linked_list(head):\n",
        "    current = head\n",
        "    while current is not None:\n",
        "        print(current.data, end=\" \")\n",
        "        current = current.next\n",
        "    print()\n",
        "\n",
        "# Example usage\n",
        "# Create the doubly linked list: 1 <-> 2 <-> 3 <-> 4 <-> 5\n",
        "head = Node(1)\n",
        "head.next = Node(2)\n",
        "head.next.prev = head\n",
        "head.next.next = Node(3)\n",
        "head.next.next.prev = head.next\n",
        "head.next.next.next = Node(4)\n",
        "head.next.next.next.prev = head.next.next\n",
        "head.next.next.next.next = Node(5)\n",
        "head.next.next.next.next.prev = head.next.next.next\n",
        "\n",
        "position = 3\n",
        "# Delete the node at position 3 from the doubly linked list: 1 <-> 2 <-> 4 <-> 5\n",
        "new_list = delete_node_at_position(head, position)\n",
        "\n",
        "# Print the updated doubly linked list\n",
        "print_doubly_linked_list(new_list)\n"
      ],
      "metadata": {
        "colab": {
          "base_uri": "https://localhost:8080/"
        },
        "id": "JvAr9T6dlSYr",
        "outputId": "c3bab4e0-3816-417b-bdbe-7f142db01ba8"
      },
      "execution_count": 9,
      "outputs": [
        {
          "output_type": "stream",
          "name": "stdout",
          "text": [
            "1 2 4 5 \n"
          ]
        }
      ]
    }
  ]
}