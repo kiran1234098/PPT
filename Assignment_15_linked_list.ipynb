{
  "nbformat": 4,
  "nbformat_minor": 0,
  "metadata": {
    "colab": {
      "provenance": []
    },
    "kernelspec": {
      "name": "python3",
      "display_name": "Python 3"
    },
    "language_info": {
      "name": "python"
    }
  },
  "cells": [
    {
      "cell_type": "markdown",
      "source": [
        "Question 1: Given an array arr[ ] of size N having elements, the task is to find the next greater element for each element of the array in order of their appearance in the array.Next greater element of an element in the array is the nearest element on the right which is greater than the current element.If there does not exist next greater of current element, then next greater element for current element is -1. For example, next greater of the last element is always -1."
      ],
      "metadata": {
        "id": "jF78xY1QrUVW"
      }
    },
    {
      "cell_type": "code",
      "source": [
        "def nextGreaterElements(arr):\n",
        "    stack = []  # Stack to store elements in decreasing order\n",
        "    result = [-1] * len(arr)  # Initialize result array with -1\n",
        "\n",
        "    for i in range(len(arr) - 1, -1, -1):\n",
        "        # Pop elements from the stack that are smaller than the current element\n",
        "        while stack and stack[-1] <= arr[i]:\n",
        "            stack.pop()\n",
        "\n",
        "        # If the stack is not empty, the top element is the next greater element\n",
        "        if stack:\n",
        "            result[i] = stack[-1]\n",
        "\n",
        "        # Push the current element to the stack\n",
        "        stack.append(arr[i])\n",
        "\n",
        "    return result\n",
        "\n",
        "# Example usage\n",
        "arr = [4, 5, 2, 25, 10, 8]\n",
        "result = nextGreaterElements(arr)\n",
        "print(result)\n"
      ],
      "metadata": {
        "colab": {
          "base_uri": "https://localhost:8080/"
        },
        "id": "EruMZq91rXeg",
        "outputId": "2a7f1cee-7221-4015-bbe9-b271e0727054"
      },
      "execution_count": 18,
      "outputs": [
        {
          "output_type": "stream",
          "name": "stdout",
          "text": [
            "[5, 25, 25, -1, -1, -1]\n"
          ]
        }
      ]
    },
    {
      "cell_type": "markdown",
      "source": [
        "Question 2: Given an array a of integers of length n, find the nearest smaller number for every element such that the smaller element is on left side.If no small element present on the left print -1."
      ],
      "metadata": {
        "id": "Vgl7j12Urk4z"
      }
    },
    {
      "cell_type": "code",
      "source": [
        "def nearestSmallerElements(arr):\n",
        "    stack = []  # Stack to store elements\n",
        "    result = [-1] * len(arr)  # Initialize result array with -1\n",
        "\n",
        "    for i in range(len(arr)):\n",
        "        # Pop elements from the stack that are greater than or equal to the current element\n",
        "        while stack and stack[-1] >= arr[i]:\n",
        "            stack.pop()\n",
        "\n",
        "        # If the stack is not empty, the top element is the nearest smaller number on the left side\n",
        "        if stack:\n",
        "            result[i] = stack[-1]\n",
        "\n",
        "        # Push the current element to the stack\n",
        "        stack.append(arr[i])\n",
        "\n",
        "    return result\n",
        "\n",
        "# Example usage\n",
        "arr = [3, 1, 6, 2, 5]\n",
        "result = nearestSmallerElements(arr)\n",
        "print(result)\n"
      ],
      "metadata": {
        "colab": {
          "base_uri": "https://localhost:8080/"
        },
        "id": "5L7bP9o2rpz8",
        "outputId": "80dc254f-d93f-4d1b-da50-59decea1e321"
      },
      "execution_count": 19,
      "outputs": [
        {
          "output_type": "stream",
          "name": "stdout",
          "text": [
            "[-1, -1, 1, 1, 2]\n"
          ]
        }
      ]
    },
    {
      "cell_type": "markdown",
      "source": [
        "Question 3 : Implement a Stack using two queues q1 and q2."
      ],
      "metadata": {
        "id": "tg16RRa7r7BN"
      }
    },
    {
      "cell_type": "code",
      "source": [
        "class Stack:\n",
        "    def __init__(self):\n",
        "        self.q1 = []\n",
        "        self.q2 = []\n",
        "\n",
        "    def push(self, element):\n",
        "        # Add the new element to q1\n",
        "        self.q1.append(element)\n",
        "\n",
        "    def pop(self):\n",
        "        if not self.q1:\n",
        "            return None  # Stack is empty\n",
        "\n",
        "        # Move all elements except the last one from q1 to q2\n",
        "        while len(self.q1) > 1:\n",
        "            self.q2.append(self.q1.pop(0))\n",
        "\n",
        "        # Pop the last element from q1\n",
        "        popped = self.q1.pop(0)\n",
        "\n",
        "        # Swap q1 and q2\n",
        "        self.q1, self.q2 = self.q2, self.q1\n",
        "\n",
        "        return popped\n",
        "\n",
        "    def is_empty(self):\n",
        "        return len(self.q1) == 0\n",
        "\n",
        "    def size(self):\n",
        "        return len(self.q1)\n",
        "\n",
        "\n",
        "# Example usage\n",
        "stack = Stack()\n",
        "stack.push(1)\n",
        "stack.push(2)\n",
        "stack.push(3)\n",
        "\n",
        "print(stack.pop())  # Output: 3\n",
        "print(stack.pop())  # Output: 2\n",
        "print(stack.pop())  # Output: 1\n",
        "print(stack.is_empty())  # Output: True\n"
      ],
      "metadata": {
        "colab": {
          "base_uri": "https://localhost:8080/"
        },
        "id": "XrwWX1oar_tV",
        "outputId": "73bf8f51-26dd-40fa-e27b-7d703c56880d"
      },
      "execution_count": 20,
      "outputs": [
        {
          "output_type": "stream",
          "name": "stdout",
          "text": [
            "3\n",
            "2\n",
            "1\n",
            "True\n"
          ]
        }
      ]
    },
    {
      "cell_type": "markdown",
      "source": [
        "Question 4: You are given a stack St. You have to reverse the stack using recursion."
      ],
      "metadata": {
        "id": "3GMnzR3-sTXI"
      }
    },
    {
      "cell_type": "code",
      "source": [
        "def reverse_stack(stack):\n",
        "    if len(stack) <= 1:\n",
        "        return stack\n",
        "\n",
        "    top_element = stack.pop()\n",
        "    reverse_stack(stack)\n",
        "    insert_at_bottom(stack, top_element)\n",
        "\n",
        "def insert_at_bottom(stack, element):\n",
        "    if len(stack) == 0:\n",
        "        stack.append(element)\n",
        "    else:\n",
        "        top_element = stack.pop()\n",
        "        insert_at_bottom(stack, element)\n",
        "        stack.append(top_element)\n",
        "\n",
        "# Example usage\n",
        "stack = [1, 2, 3, 4, 5]\n",
        "print(\"Original stack:\", stack)\n",
        "reverse_stack(stack)\n",
        "print(\"Reversed stack:\", stack)\n"
      ],
      "metadata": {
        "colab": {
          "base_uri": "https://localhost:8080/"
        },
        "id": "C_v2GRbQsZ2v",
        "outputId": "da1c7341-8dd9-44b6-c184-2ab4d5bd8467"
      },
      "execution_count": 21,
      "outputs": [
        {
          "output_type": "stream",
          "name": "stdout",
          "text": [
            "Original stack: [1, 2, 3, 4, 5]\n",
            "Reversed stack: [5, 4, 3, 2, 1]\n"
          ]
        }
      ]
    },
    {
      "cell_type": "markdown",
      "source": [
        "Question 5: You are given a string S, the task is to reverse the string using stack."
      ],
      "metadata": {
        "id": "WPKxFt6Is9ta"
      }
    },
    {
      "cell_type": "code",
      "source": [
        "def reverse_string(S):\n",
        "    stack = []\n",
        "    reversed_string = \"\"\n",
        "\n",
        "    # Push characters onto the stack\n",
        "    for char in S:\n",
        "        stack.append(char)\n",
        "\n",
        "    # Pop characters from the stack and build the reversed string\n",
        "    while stack:\n",
        "        reversed_string += stack.pop()\n",
        "\n",
        "    return reversed_string\n",
        "\n",
        "# Example usage\n",
        "string = \"Hello, World!\"\n",
        "reversed_string = reverse_string(string)\n",
        "print(\"Original string:\", string)\n",
        "print(\"Reversed string:\", reversed_string)\n"
      ],
      "metadata": {
        "colab": {
          "base_uri": "https://localhost:8080/"
        },
        "id": "tR9igI-_tC4l",
        "outputId": "167381d6-58d6-4a1b-ad4c-e76db82a7f96"
      },
      "execution_count": 22,
      "outputs": [
        {
          "output_type": "stream",
          "name": "stdout",
          "text": [
            "Original string: Hello, World!\n",
            "Reversed string: !dlroW ,olleH\n"
          ]
        }
      ]
    },
    {
      "cell_type": "markdown",
      "source": [
        "Question 6: Given string S representing a postfix expression, the task is to evaluate the expression and find the final value. Operators will only include the basic arithmetic operators like *, /, + and -."
      ],
      "metadata": {
        "id": "E4Wmxs3KtWhY"
      }
    },
    {
      "cell_type": "code",
      "source": [
        "def evaluate_postfix(expression):\n",
        "    stack = []\n",
        "\n",
        "    for char in expression:\n",
        "        if char.isdigit():\n",
        "            stack.append(int(char))\n",
        "        else:\n",
        "            operand2 = stack.pop()\n",
        "            operand1 = stack.pop()\n",
        "\n",
        "            if char == '+':\n",
        "                result = operand1 + operand2\n",
        "            elif char == '-':\n",
        "                result = operand1 - operand2\n",
        "            elif char == '*':\n",
        "                result = operand1 * operand2\n",
        "            elif char == '/':\n",
        "                result = operand1 / operand2\n",
        "\n",
        "            stack.append(result)\n",
        "\n",
        "    return stack.pop()\n",
        "\n",
        "# Example usage\n",
        "expression = \"53+2*\"\n",
        "result = evaluate_postfix(expression)\n",
        "print(\"Expression:\", expression)\n",
        "print(\"Result:\", result)\n"
      ],
      "metadata": {
        "colab": {
          "base_uri": "https://localhost:8080/"
        },
        "id": "Etpy366Htb5Z",
        "outputId": "2a238c05-6c9c-4a45-d87a-3de39b85fad4"
      },
      "execution_count": 23,
      "outputs": [
        {
          "output_type": "stream",
          "name": "stdout",
          "text": [
            "Expression: 53+2*\n",
            "Result: 16\n"
          ]
        }
      ]
    },
    {
      "cell_type": "markdown",
      "source": [
        "Question 7 : Design a stack that supports push, pop, top, and retrieving the minimum element in constant time.\n",
        "\n",
        "Implement the `MinStack` class:\n",
        "\n",
        "- `MinStack()` initializes the stack object.\n",
        "- `void push(int val)` pushes the element `val` onto the stack.\n",
        "- `void pop()` removes the element on the top of the stack.\n",
        "- `int top()` gets the top element of the stack.\n",
        "- `int getMin()` retrieves the minimum element in the stack.\n",
        "\n",
        "You must implement a solution with `O(1)` time complexity for each function."
      ],
      "metadata": {
        "id": "WqoMj6DVtkpO"
      }
    },
    {
      "cell_type": "code",
      "source": [
        "class MinStack:\n",
        "    def __init__(self):\n",
        "        self.stack = []\n",
        "        self.min_stack = []\n",
        "\n",
        "    def push(self, val):\n",
        "        self.stack.append(val)\n",
        "\n",
        "        if not self.min_stack or val <= self.min_stack[-1]:\n",
        "            self.min_stack.append(val)\n",
        "\n",
        "    def pop(self):\n",
        "        if self.stack[-1] == self.min_stack[-1]:\n",
        "            self.min_stack.pop()\n",
        "\n",
        "        self.stack.pop()\n",
        "\n",
        "    def top(self):\n",
        "        return self.stack[-1]\n",
        "\n",
        "    def getMin(self):\n",
        "        return self.min_stack[-1]\n"
      ],
      "metadata": {
        "id": "yHiaYS1atqj3"
      },
      "execution_count": 24,
      "outputs": []
    },
    {
      "cell_type": "markdown",
      "source": [
        "Question 8 : <aside>\n",
        "\n",
        "\n",
        "Given `n` non-negative integers representing an elevation map where the width of each bar is `1`, compute how much water it can trap after raining.\n",
        "\n",
        "\n",
        "\n",
        "</aside>"
      ],
      "metadata": {
        "id": "cFV4q3Dzt0zI"
      }
    },
    {
      "cell_type": "code",
      "source": [
        "def trap(height):\n",
        "    if len(height) <= 2:\n",
        "        return 0\n",
        "\n",
        "    left = 0\n",
        "    right = len(height) - 1\n",
        "    left_max = 0\n",
        "    right_max = 0\n",
        "    water = 0\n",
        "\n",
        "    while left < right:\n",
        "        if height[left] < height[right]:\n",
        "            if height[left] >= left_max:\n",
        "                left_max = height[left]\n",
        "            else:\n",
        "                water += left_max - height[left]\n",
        "            left += 1\n",
        "        else:\n",
        "            if height[right] >= right_max:\n",
        "                right_max = height[right]\n",
        "            else:\n",
        "                water += right_max - height[right]\n",
        "            right -= 1\n",
        "\n",
        "    return water\n",
        "\n",
        "# Example usage\n",
        "height = [0,1,0,2,1,0,1,3,2,1,2,1]\n",
        "water_trapped = trap(height)\n",
        "print(\"Water trapped:\", water_trapped)\n"
      ],
      "metadata": {
        "id": "RRkYauC1t-dt"
      },
      "execution_count": null,
      "outputs": []
    }
  ]
}