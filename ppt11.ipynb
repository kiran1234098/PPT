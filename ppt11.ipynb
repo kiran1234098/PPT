{
 "cells": [
  {
   "cell_type": "markdown",
   "metadata": {},
   "source": [
    "\n",
    "💡 **Question 1**\n",
    "\n",
    "You are given an `m x n` integer matrix `matrix` with the following two properties:\n",
    "\n",
    "- Each row is sorted in non-decreasing order.\n",
    "- The first integer of each row is greater than the last integer of the previous row.\n",
    "\n",
    "Given an integer `target`, return `true` *if* `target` *is in* `matrix` *or* `false` *otherwise*.\n",
    "\n",
    "You must write a solution in `O(log(m * n))` time complexity.\n",
    "\n",
    "**Example 1:**\n",
    "\n",
    "!https://assets.leetcode.com/uploads/2020/10/05/mat.jpg\n",
    "\n",
    "```\n",
    "Input: matrix = [[1,3,5,7],[10,11,16,20],[23,30,34,60]], target = 3\n",
    "Output: true\n",
    "\n",
    "```\n",
    "\n",
    "**Example 2:**\n",
    "\n",
    "!https://assets.leetcode.com/uploads/2020/10/05/mat2.jpg\n",
    "\n",
    "```\n",
    "Input: matrix = [[1,3,5,7],[10,11,16,20],[23,30,34,60]], target = 13\n",
    "Output: false\n",
    "```\n",
    "\n",
    "**Explanation :** \n",
    "\n",
    "1. we will find the row that contains our target element.\n",
    "2. To that we compare target to last element of each row.\n",
    "3. If target <= last element then we will apply binary-search on that row.\n",
    "4. when we get target element we will return true.\n",
    "\n",
    "- Time complexity: O(mlogn) ( where m is number of rows in matrix.)\n",
    "- Space complexity: O(1)\n"
   ]
  },
  {
   "cell_type": "code",
   "execution_count": 4,
   "metadata": {},
   "outputs": [
    {
     "data": {
      "text/plain": [
       "True"
      ]
     },
     "execution_count": 4,
     "metadata": {},
     "output_type": "execute_result"
    }
   ],
   "source": [
    "class Solution:\n",
    "    def searchMatrix(self, matrix, target: int) -> bool:\n",
    "        \n",
    "        # Binary Search\n",
    "        row, col = len(matrix), len(matrix[0])\n",
    "        i, j = 0, (row * col) - 1\n",
    "\n",
    "        while i <= j:\n",
    "            mid = (i + j) >> 1\n",
    "            mid_element = matrix[mid // col][mid % col] \n",
    "            if mid_element == target:\n",
    "                return True\n",
    "            elif mid_element < target:\n",
    "                i = mid + 1\n",
    "            else:\n",
    "                j = mid - 1\n",
    "        return False\n",
    "\n",
    "sol =Solution()        \n",
    "matrix = [[1,3,5,7],[10,11,16,20],[23,30,34,60]]\n",
    "target = 3\n",
    "sol.searchMatrix(matrix,target)\n",
    "#Output: true       "
   ]
  },
  {
   "cell_type": "markdown",
   "metadata": {},
   "source": [
    "\n",
    "💡 **Question 2**\n",
    "\n",
    "Given a sorted array of distinct integers and a target value, return the index if the target is found. If not, return the index where it would be if it were inserted in order.\n",
    "\n",
    "You must write an algorithm with `O(log n)` runtime complexity.\n",
    "\n",
    "**Example 1:**\n",
    "\n",
    "```\n",
    "Input: nums = [1,3,5,6], target = 5\n",
    "Output: 2\n",
    "\n",
    "```\n",
    "\n",
    "**Example 2:**\n",
    "\n",
    "```\n",
    "Input: nums = [1,3,5,6], target = 2\n",
    "Output: 1\n",
    "\n",
    "```\n",
    "\n",
    "**Example 3:**\n",
    "\n",
    "```\n",
    "Input: nums = [1,3,5,6], target = 7\n",
    "Output: 4\n",
    "```\n",
    "\n",
    "# **Complexity:**\n",
    "\n",
    "- The time complexity of this solution is O(log n) because the binary search algorithm divides the search space in half at each step.\n",
    "- The space complexity is O(1) since the algorithm uses only a constant amount of extra space.\n",
    "\n",
    "**Solution :**\n",
    "\n"
   ]
  },
  {
   "cell_type": "code",
   "execution_count": 10,
   "metadata": {},
   "outputs": [
    {
     "name": "stdout",
     "output_type": "stream",
     "text": [
      "2\n"
     ]
    }
   ],
   "source": [
    "def insert_target(nums, target):\n",
    "    n = len(nums)\n",
    "    mid = len(nums) // 2\n",
    "    mid_element = nums[mid]\n",
    "    \n",
    "    if mid_element == target:\n",
    "        return mid\n",
    "    elif mid_element < target and len(nums)>0:\n",
    "        return mid + 1 + insert_target(nums[mid + 1:], target)\n",
    "    elif mid_element > target and len(nums)>0:\n",
    "        return insert_target(nums[:mid], target)\n",
    "    else:\n",
    "        return 1\n",
    "        \n",
    "\n",
    "nums = [1,3,5,6]\n",
    "target = 5\n",
    "#Output: 2\n",
    "n= insert_target(nums,target)\n",
    "print(n)"
   ]
  },
  {
   "cell_type": "code",
   "execution_count": null,
   "metadata": {},
   "outputs": [],
   "source": [
    "class Solution(object):\n",
    "    def searchInsert(self, nums, target):\n",
    "        start, end = 0, len(nums) - 1\n",
    "        ans = len(nums) # Default answer when target is greater than all elements\n",
    "        \n",
    "        while start <= end:\n",
    "            mid = (start + end) / 2\n",
    "            \n",
    "            if nums[mid] == target:\n",
    "                return mid\n",
    "            elif nums[mid] < target:\n",
    "                start = mid + 1\n",
    "            else:\n",
    "                ans = mid # Update the answer to the current index\n",
    "                end = mid - 1\n",
    "                \n",
    "        return ans"
   ]
  }
 ],
 "metadata": {
  "kernelspec": {
   "display_name": "Python 3.8.10 64-bit",
   "language": "python",
   "name": "python3"
  },
  "language_info": {
   "codemirror_mode": {
    "name": "ipython",
    "version": 3
   },
   "file_extension": ".py",
   "mimetype": "text/x-python",
   "name": "python",
   "nbconvert_exporter": "python",
   "pygments_lexer": "ipython3",
   "version": "3.8.10"
  },
  "orig_nbformat": 4,
  "vscode": {
   "interpreter": {
    "hash": "e7370f93d1d0cde622a1f8e1c04877d8463912d04d973331ad4851f04de6915a"
   }
  }
 },
 "nbformat": 4,
 "nbformat_minor": 2
}
