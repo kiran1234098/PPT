{
  "nbformat": 4,
  "nbformat_minor": 0,
  "metadata": {
    "colab": {
      "provenance": []
    },
    "kernelspec": {
      "name": "python3",
      "display_name": "Python 3"
    },
    "language_info": {
      "name": "python"
    }
  },
  "cells": [
    {
      "cell_type": "markdown",
      "source": [
        "Question 1: Given a string s, find the first non-repeating character in it and return its index. If it does not exist, return -1."
      ],
      "metadata": {
        "id": "eCBQH9Lsyrk5"
      }
    },
    {
      "cell_type": "code",
      "source": [
        "def first_non_repeating_character(s):\n",
        "    freq = {}\n",
        "\n",
        "    # Count the frequency of each character\n",
        "    for char in s:\n",
        "        freq[char] = freq.get(char, 0) + 1\n",
        "\n",
        "    # Find the first non-repeating character\n",
        "    for i in range(len(s)):\n",
        "        if freq[s[i]] == 1:\n",
        "            return i\n",
        "\n",
        "    return -1\n",
        "\n",
        "\n",
        "# Example usage\n",
        "s = \"leetcode\"\n",
        "result = first_non_repeating_character(s)\n",
        "print(\"Index of the first non-repeating character:\", result)\n"
      ],
      "metadata": {
        "colab": {
          "base_uri": "https://localhost:8080/"
        },
        "id": "RAZstXKKyvlp",
        "outputId": "7ee26753-497a-434a-f03c-489a902aa6eb"
      },
      "execution_count": 33,
      "outputs": [
        {
          "output_type": "stream",
          "name": "stdout",
          "text": [
            "Index of the first non-repeating character: 0\n"
          ]
        }
      ]
    },
    {
      "cell_type": "markdown",
      "source": [
        "Question 2 : Given a **circular integer array** `nums` of length `n`, return *the maximum possible sum of a non-empty **subarray** of* `nums`.\n",
        "\n",
        "A **circular array** means the end of the array connects to the beginning of the array. Formally, the next element of `nums[i]` is `nums[(i + 1) % n]` and the previous element of `nums[i]` is `nums[(i - 1 + n) % n]`.\n",
        "\n",
        "A **subarray** may only include each element of the fixed buffer `nums` at most once. Formally, for a subarray `nums[i], nums[i + 1], ..., nums[j]`, there does not exist `i <= k1`, `k2 <= j` with `k1 % n == k2 % n`."
      ],
      "metadata": {
        "id": "CHKIFP48y51x"
      }
    },
    {
      "cell_type": "code",
      "source": [
        "def max_subarray_sum_circular(nums):\n",
        "    # Case 1: Maximum sum subarray is not circular\n",
        "    max_sum_non_circular = kadane(nums)\n",
        "\n",
        "    # Case 2: Maximum sum subarray is circular\n",
        "    total_sum = sum(nums)\n",
        "    inverted_nums = [-num for num in nums]\n",
        "    max_sum_circular = total_sum + kadane(inverted_nums)\n",
        "\n",
        "    # Return the maximum of the two cases\n",
        "    return max(max_sum_non_circular, max_sum_circular)\n",
        "\n",
        "\n",
        "def kadane(nums):\n",
        "    max_sum = float('-inf')\n",
        "    current_sum = 0\n",
        "\n",
        "    for num in nums:\n",
        "        current_sum = max(current_sum + num, num)\n",
        "        max_sum = max(max_sum, current_sum)\n",
        "\n",
        "    return max_sum\n",
        "\n",
        "\n",
        "# Example usage\n",
        "nums = [1, -2, 3, -2]\n",
        "result = max_subarray_sum_circular(nums)\n",
        "print(\"Maximum subarray sum:\", result)\n"
      ],
      "metadata": {
        "colab": {
          "base_uri": "https://localhost:8080/"
        },
        "id": "m7J5JyU-y-7e",
        "outputId": "e627fd28-0527-41a9-e01f-9213278b104a"
      },
      "execution_count": 34,
      "outputs": [
        {
          "output_type": "stream",
          "name": "stdout",
          "text": [
            "Maximum subarray sum: 3\n"
          ]
        }
      ]
    },
    {
      "cell_type": "markdown",
      "source": [
        "Question 3 : The school cafeteria offers circular and square sandwiches at lunch break, referred to by numbers `0` and `1` respectively. All students stand in a queue. Each student either prefers square or circular sandwiches.\n",
        "\n",
        "The number of sandwiches in the cafeteria is equal to the number of students. The sandwiches are placed in a **stack**. At each step:\n",
        "\n",
        "- If the student at the front of the queue **prefers** the sandwich on the top of the stack, they will **take it** and leave the queue.\n",
        "- Otherwise, they will **leave it** and go to the queue's end.\n",
        "\n",
        "This continues until none of the queue students want to take the top sandwich and are thus unable to eat.\n",
        "\n",
        "You are given two integer arrays `students` and `sandwiches` where `sandwiches[i]` is the type of the `ith` sandwich in the stack (`i = 0` is the top of the stack) and `students[j]` is the preference of the `jth` student in the initial queue (`j = 0` is the front of the queue). Return *the number of students that are unable to eat.*"
      ],
      "metadata": {
        "id": "zpwe5y8ozLQU"
      }
    },
    {
      "cell_type": "code",
      "source": [
        "def count_students_unable_to_eat(students, sandwiches):\n",
        "    queue = students  # Initialize the queue\n",
        "\n",
        "    while len(queue) > 0:\n",
        "        if queue[0] == sandwiches[0]:\n",
        "            # The student prefers the sandwich on top of the stack, so they can eat it\n",
        "            queue.pop(0)\n",
        "            sandwiches.pop(0)\n",
        "        else:\n",
        "            # The student doesn't prefer the sandwich, so move them to the end of the queue\n",
        "            queue.append(queue.pop(0))\n",
        "\n",
        "        # Check if all the students have been served\n",
        "        if len(queue) == 0:\n",
        "            break\n",
        "\n",
        "        # Check if none of the students can eat\n",
        "        if queue.count(queue[0]) == len(queue):\n",
        "            break\n",
        "\n",
        "    return len(queue)\n",
        "\n",
        "\n",
        "# Example usage\n",
        "students = [1,1,0,0]\n",
        "sandwiches = [0,1,0,1]\n",
        "result = count_students_unable_to_eat(students, sandwiches)\n",
        "print(\"Number of students unable to eat:\", result)\n"
      ],
      "metadata": {
        "colab": {
          "base_uri": "https://localhost:8080/"
        },
        "id": "Cya0Eox2zQhR",
        "outputId": "3b0199ca-4bf3-4cda-b493-f7332162cadf"
      },
      "execution_count": 35,
      "outputs": [
        {
          "output_type": "stream",
          "name": "stdout",
          "text": [
            "Number of students unable to eat: 1\n"
          ]
        }
      ]
    },
    {
      "cell_type": "markdown",
      "source": [
        "Question 4 : You have a `RecentCounter` class which counts the number of recent requests within a certain time frame.\n",
        "\n",
        "Implement the `RecentCounter` class:\n",
        "\n",
        "- `RecentCounter()` Initializes the counter with zero recent requests.\n",
        "- `int ping(int t)` Adds a new request at time `t`, where `t` represents some time in milliseconds, and returns the number of requests that has happened in the past `3000` milliseconds (including the new request). Specifically, return the number of requests that have happened in the inclusive range `[t - 3000, t]`.\n",
        "\n",
        "It is **guaranteed** that every call to `ping` uses a strictly larger value of `t` than the previous call."
      ],
      "metadata": {
        "id": "4gIsIDNpzdoG"
      }
    },
    {
      "cell_type": "code",
      "source": [
        "from collections import deque\n",
        "\n",
        "class RecentCounter:\n",
        "    def __init__(self):\n",
        "        self.queue = deque()\n",
        "\n",
        "    def ping(self, t: int) -> int:\n",
        "        # Add the new request timestamp to the queue\n",
        "        self.queue.append(t)\n",
        "\n",
        "        # Remove the timestamps older than t - 3000\n",
        "        while self.queue and self.queue[0] < t - 3000:\n",
        "            self.queue.popleft()\n",
        "\n",
        "        # Return the number of requests in the queue\n",
        "        return len(self.queue)\n"
      ],
      "metadata": {
        "id": "T8rSaCRUzjEZ"
      },
      "execution_count": 36,
      "outputs": []
    },
    {
      "cell_type": "markdown",
      "source": [
        "Question 5 : There are `n` friends that are playing a game. The friends are sitting in a circle and are numbered from `1` to `n` in **clockwise order**. More formally, moving clockwise from the `ith` friend brings you to the `(i+1)th` friend for `1 <= i < n`, and moving clockwise from the `nth` friend brings you to the `1st` friend.\n",
        "\n",
        "The rules of the game are as follows:\n",
        "\n",
        "1. **Start** at the `1st` friend.\n",
        "2. Count the next `k` friends in the clockwise direction **including** the friend you started at. The counting wraps around the circle and may count some friends more than once.\n",
        "3. The last friend you counted leaves the circle and loses the game.\n",
        "4. If there is still more than one friend in the circle, go back to step `2` **starting** from the friend **immediately clockwise** of the friend who just lost and repeat.\n",
        "5. Else, the last friend in the circle wins the game.\n",
        "\n",
        "Given the number of friends, `n`, and an integer `k`, return *the winner of the game*."
      ],
      "metadata": {
        "id": "TuoHFkDfzyZI"
      }
    },
    {
      "cell_type": "code",
      "source": [
        "class ListNode:\n",
        "    def __init__(self, val=0, next=None):\n",
        "        self.val = val\n",
        "        self.next = next\n",
        "\n",
        "\n",
        "def findTheWinner(n: int, k: int) -> int:\n",
        "    # Create a circular linked list\n",
        "    head = ListNode(1)\n",
        "    prev = head\n",
        "    for i in range(2, n + 1):\n",
        "        curr = ListNode(i)\n",
        "        prev.next = curr\n",
        "        prev = curr\n",
        "    prev.next = head\n",
        "\n",
        "    # Simulate the game\n",
        "    curr = head\n",
        "    while curr.next != curr:\n",
        "        # Traverse k-1 nodes in the clockwise direction\n",
        "        for _ in range(k - 1):\n",
        "            curr = curr.next\n",
        "        # Remove the k-th friend\n",
        "        curr.next = curr.next.next\n",
        "        curr = curr.next\n",
        "\n",
        "    return curr.val\n"
      ],
      "metadata": {
        "id": "f4_HSF8Ez31g"
      },
      "execution_count": 37,
      "outputs": []
    },
    {
      "cell_type": "markdown",
      "source": [
        "Question 6 : You are given an integer array `deck`. There is a deck of cards where every card has a unique integer. The integer on the `ith` card is `deck[i]`.\n",
        "\n",
        "You can order the deck in any order you want. Initially, all the cards start face down (unrevealed) in one deck.\n",
        "\n",
        "You will do the following steps repeatedly until all cards are revealed:\n",
        "\n",
        "1. Take the top card of the deck, reveal it, and take it out of the deck.\n",
        "2. If there are still cards in the deck then put the next top card of the deck at the bottom of the deck.\n",
        "3. If there are still unrevealed cards, go back to step 1. Otherwise, stop.\n",
        "\n",
        "Return *an ordering of the deck that would reveal the cards in increasing order*.\n",
        "\n",
        "**Note** that the first entry in the answer is considered to be the top of the deck."
      ],
      "metadata": {
        "id": "naZeazCH0Cdx"
      }
    },
    {
      "cell_type": "code",
      "source": [
        "def deckRevealedIncreasing(deck):\n",
        "    n = len(deck)\n",
        "    indices = list(range(n))\n",
        "    deck.sort()\n",
        "    result = []\n",
        "\n",
        "    for card in deck:\n",
        "        result.append(indices[0])\n",
        "        indices = indices[2:] + [indices[1]] if len(indices) > 1 else []\n",
        "\n",
        "    return [deck[i] for i in result]\n"
      ],
      "metadata": {
        "id": "zBfbjCjH0Ij7"
      },
      "execution_count": 38,
      "outputs": []
    },
    {
      "cell_type": "markdown",
      "source": [
        "Question 7 : Design a queue that supports `push` and `pop` operations in the front, middle, and back.\n",
        "\n",
        "Implement the `FrontMiddleBack` class:\n",
        "\n",
        "- `FrontMiddleBack()` Initializes the queue.\n",
        "- `void pushFront(int val)` Adds `val` to the **front** of the queue.\n",
        "- `void pushMiddle(int val)` Adds `val` to the **middle** of the queue.\n",
        "- `void pushBack(int val)` Adds `val` to the **back** of the queue.\n",
        "- `int popFront()` Removes the **front** element of the queue and returns it. If the queue is empty, return `1`.\n",
        "- `int popMiddle()` Removes the **middle** element of the queue and returns it. If the queue is empty, return `1`.\n",
        "- `int popBack()` Removes the **back** element of the queue and returns it. If the queue is empty, return `1`.\n",
        "\n",
        "**Notice** that when there are **two** middle position choices, the operation is performed on the **frontmost** middle position choice. For example:\n",
        "\n",
        "- Pushing `6` into the middle of `[1, 2, 3, 4, 5]` results in `[1, 2, 6, 3, 4, 5]`.\n",
        "- Popping the middle from `[1, 2, 3, 4, 5, 6]` returns `3` and results in `[1, 2, 4, 5, 6]`."
      ],
      "metadata": {
        "id": "zN51XEL90blu"
      }
    },
    {
      "cell_type": "code",
      "source": [
        "from collections import deque\n",
        "\n",
        "class FrontMiddleBack:\n",
        "    def __init__(self):\n",
        "        self.front_half = deque()\n",
        "        self.back_half = deque()\n",
        "\n",
        "    def pushFront(self, val: int) -> None:\n",
        "        self.front_half.appendleft(val)\n",
        "        self.balance()\n",
        "\n",
        "    def pushMiddle(self, val: int) -> None:\n",
        "        if len(self.front_half) > len(self.back_half):\n",
        "            self.back_half.appendleft(self.front_half.pop())\n",
        "        self.front_half.append(val)\n",
        "\n",
        "    def pushBack(self, val: int) -> None:\n",
        "        self.back_half.append(val)\n",
        "        self.balance()\n",
        "\n",
        "    def popFront(self) -> int:\n",
        "        if not self.front_half and not self.back_half:\n",
        "            return -1\n",
        "        if self.front_half:\n",
        "            return self.front_half.popleft()\n",
        "        val = self.back_half.popleft()\n",
        "        self.balance()\n",
        "        return val\n",
        "\n",
        "    def popMiddle(self) -> int:\n",
        "        if not self.front_half and not self.back_half:\n",
        "            return -1\n",
        "        if len(self.front_half) >= len(self.back_half):\n",
        "            return self.front_half.pop()\n",
        "        return self.back_half.popleft()\n",
        "\n",
        "    def popBack(self) -> int:\n",
        "        if not self.front_half and not self.back_half:\n",
        "            return -1\n",
        "        if self.back_half:\n",
        "            return self.back_half.pop()\n",
        "        val = self.front_half.pop()\n",
        "        self.balance()\n",
        "        return val\n",
        "\n",
        "    def balance(self) -> None:\n",
        "        if len(self.front_half) > len(self.back_half) + 1:\n",
        "            self.back_half.appendleft(self.front_half.pop())\n",
        "        elif len(self.back_half) > len(self.front_half):\n",
        "            self.front_half.append(self.back_half.popleft())\n"
      ],
      "metadata": {
        "id": "8555Vq0F0hRB"
      },
      "execution_count": 39,
      "outputs": []
    },
    {
      "cell_type": "markdown",
      "source": [
        "Question 8 : For a stream of integers, implement a data structure that checks if the last `k` integers parsed in the stream are **equal** to `value`.\n",
        "\n",
        "Implement the **DataStream** class:\n",
        "\n",
        "- `DataStream(int value, int k)` Initializes the object with an empty integer stream and the two integers `value` and `k`.\n",
        "- `boolean consec(int num)` Adds `num` to the stream of integers. Returns `true` if the last `k` integers are equal to `value`, and `false` otherwise. If there are less than `k` integers, the condition does not hold true, so returns `false`."
      ],
      "metadata": {
        "id": "8YlVh8uM0umt"
      }
    },
    {
      "cell_type": "code",
      "source": [
        "from collections import deque\n",
        "\n",
        "class DataStream:\n",
        "    def __init__(self, value: int, k: int):\n",
        "        self.value = value\n",
        "        self.k = k\n",
        "        self.stream = deque()\n",
        "\n",
        "    def consec(self, num: int) -> bool:\n",
        "        self.stream.append(num)\n",
        "        if len(self.stream) < self.k:\n",
        "            return False\n",
        "        if len(self.stream) > self.k:\n",
        "            self.stream.popleft()\n",
        "        return all(x == self.value for x in self.stream)\n"
      ],
      "metadata": {
        "id": "1NTfwmH90z1u"
      },
      "execution_count": 40,
      "outputs": []
    }
  ]
}