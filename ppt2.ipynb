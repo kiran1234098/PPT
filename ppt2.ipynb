{
 "cells": [
  {
   "cell_type": "markdown",
   "metadata": {},
   "source": [
    "Question 1\n",
    "Given an array nums containing n distinct numbers in the range [0, n], return the\n",
    "only number in the range that is missing from the array.\n",
    "Example 1:\n",
    "Input: nums = [3,0,1]\n",
    "Output: 2\n",
    "Explanation: n = 3 since there are 3 numbers, so all numbers are in the range\n",
    "[0,3]. 2 is the missing number in the range since it does not appear in nums."
   ]
  },
  {
   "cell_type": "code",
   "execution_count": 2,
   "metadata": {},
   "outputs": [
    {
     "name": "stdout",
     "output_type": "stream",
     "text": [
      "2\n"
     ]
    }
   ],
   "source": [
    "class Solution:\n",
    "    def missingNumber(self,nums):\n",
    "        numSet = set(nums)\n",
    "\n",
    "\n",
    "        expectedNumCount = len(nums)+ 1\n",
    "        for number in range(expectedNumCount):\n",
    "            if number not in numSet:\n",
    "                if number not in numSet:\n",
    "                    return number\n",
    "\n",
    "        return -1 \n",
    "\n",
    "miss = Solution()\n",
    "\n",
    "nums = [3,0,1]\n",
    "missvlue= miss.missingNumber(nums)\n",
    "print(missvlue)\n",
    "\"\"\"TC: O(n)\n",
    "SC: O (n)\"\"\""
   ]
  },
  {
   "cell_type": "markdown",
   "metadata": {},
   "source": [
    "Question 2\n",
    "Given an array of intervals where intervals[i] = [starti, endi], merge all overlapping\n",
    "intervals, and return an array of the non-overlapping intervals that cover all the\n",
    "intervals in the input.\n",
    "\n",
    "Example 1:\n",
    "Input: intervals = [[1,3],[2,6],[8,10],[15,18]]\n",
    "Output: [[1,6],[8,10],[15,18]]\n",
    "Explanation: Since intervals [1,3] and [2,6] overlap, merge them into [1,6]."
   ]
  },
  {
   "cell_type": "code",
   "execution_count": 5,
   "metadata": {},
   "outputs": [
    {
     "name": "stdout",
     "output_type": "stream",
     "text": [
      "[[1, 6], [8, 10], [15, 18]]\n"
     ]
    },
    {
     "data": {
      "text/plain": [
       "'TC: O(n)\\nSC: O (n)'"
      ]
     },
     "execution_count": 5,
     "metadata": {},
     "output_type": "execute_result"
    }
   ],
   "source": [
    "class Solution:\n",
    "    def merge(self, intervals):\n",
    "        intervals.sort(key=lambda x: x[0])\n",
    "        merged = []\n",
    "        for interval in intervals:\n",
    "            if not merged or merged[-1][1] < interval[0]:\n",
    "                merged.append(interval)\n",
    "            else:\n",
    "                merged[-1][1] = max(merged[-1][1], interval[1])\n",
    "        return merged\n",
    "\n",
    "intervals = [[1,3],[2,6],[8,10],[15,18]]\n",
    "met = Solution()\n",
    "\n",
    "\n",
    "missvlue= met.merge(intervals)\n",
    "print(missvlue)\n",
    "\"\"\"TC : O(nlogn)\n",
    "SC : O (log n))\"\"\""
   ]
  },
  {
   "cell_type": "markdown",
   "metadata": {},
   "source": [
    "Question 3\n",
    "You are given two integer arrays nums1 and nums2, sorted in non-decreasing\n",
    "order, and two integers m and n, representing the number of elements in nums1\n",
    "and nums2 respectively.\n",
    "Merge nums1 and nums2 into a single array sorted in non-decreasing order.\n",
    "The final sorted array should not be returned by the function, but instead be\n",
    "stored inside the array nums1. To accommodate this, nums1 has a length of m +\n",
    "n, where the first m elements denote the elements that should be merged, and the\n",
    "last n elements are set to 0 and should be ignored. nums2 has a length of n.\n",
    "Example 1:\n",
    "Input: nums1 = [1,2,3,0,0,0], m = 3, nums2 = [2,5,6], n = 3\n",
    "Output: [1,2,2,3,5,6]\n",
    "Explanation: The arrays we are merging are [1,2,3] and [2,5,6].\n",
    "The result of the merge is [1,2,2,3,5,6] with the underlined elements coming from\n",
    "nums1."
   ]
  },
  {
   "cell_type": "code",
   "execution_count": null,
   "metadata": {},
   "outputs": [],
   "source": []
  }
 ],
 "metadata": {
  "kernelspec": {
   "display_name": "Python 3.8.10 64-bit",
   "language": "python",
   "name": "python3"
  },
  "language_info": {
   "codemirror_mode": {
    "name": "ipython",
    "version": 3
   },
   "file_extension": ".py",
   "mimetype": "text/x-python",
   "name": "python",
   "nbconvert_exporter": "python",
   "pygments_lexer": "ipython3",
   "version": "3.8.10"
  },
  "orig_nbformat": 4,
  "vscode": {
   "interpreter": {
    "hash": "e7370f93d1d0cde622a1f8e1c04877d8463912d04d973331ad4851f04de6915a"
   }
  }
 },
 "nbformat": 4,
 "nbformat_minor": 2
}
