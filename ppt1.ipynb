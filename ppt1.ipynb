{
 "cells": [
  {
   "cell_type": "markdown",
   "metadata": {},
   "source": [
    "\n",
    "💡 **Q1.** Given an array of size N. The task is to find the maximum and the minimum element of the array using the minimum number of comparisons.\n",
    "\n",
    "**Examples:**\n",
    "\n",
    "Input: arr[] = {3, 5, 4, 1, 9}\n",
    "\n",
    "Output: Minimum element is: 1\n",
    "\n",
    "Maximum element is: 9\n",
    "\n",
    "TC : O(n)\n",
    "\n",
    "SC: O(n)"
   ]
  },
  {
   "cell_type": "code",
   "execution_count": 5,
   "metadata": {},
   "outputs": [
    {
     "name": "stdout",
     "output_type": "stream",
     "text": [
      "Mininum elememt is  1\n",
      "Maximum element is 3000\n"
     ]
    }
   ],
   "source": [
    "# python program of above implementation\n",
    "# stucture is used to return two value from minMax()\n",
    "\n",
    "class pair:\n",
    "    def __init__(self):\n",
    "        self.min_1 =0\n",
    "        self.max_1 = 0\n",
    "\n",
    "def getMinMax(arr: list,n:int) -> pair:\n",
    "        minmax = pair()\n",
    "\n",
    "        # if there is only one element then return it as min and max both\n",
    "        if n == 1:\n",
    "            minmax.max_1 = arr[0]\n",
    "            minmax.min_1 = arr[0]\n",
    "\n",
    "            return minmax \n",
    "\n",
    "        # if there are more than one elements , then initialize min\n",
    "        # and max\n",
    "        if arr[0]> arr[1]:\n",
    "            minmax.max_1 = arr[0]\n",
    "            minmax.min_1 = arr[1]\n",
    "\n",
    "        else:\n",
    "            minmax.max_1 = arr[1]\n",
    "            minmax.min_1 = arr[0]\n",
    "\n",
    "\n",
    "        for i in range(2,n):\n",
    "            if arr[i]> minmax.max_1:\n",
    "                minmax.max_1 = arr[i]\n",
    "\n",
    "            elif arr[i]< minmax.min_1:\n",
    "                minmax.min_1 = arr[i]\n",
    "\n",
    "\n",
    "        return minmax\n",
    "\n",
    "# Driver code \n",
    "if __name__ == \"__main__\":\n",
    "    arr = [1000,11,445, 1, 330,3000]\n",
    "    arr_size = 6\n",
    "\n",
    "    minmax = getMinMax(arr,arr_size)\n",
    "    print(\"Mininum elememt is \",minmax.min_1)\n",
    "    print(\"Maximum element is\",minmax.max_1)        "
   ]
  },
  {
   "cell_type": "markdown",
   "metadata": {},
   "source": [
    "\n",
    "💡 **Q2.** You are given an array prices where prices[i] is the price of a given stock on the ith day.\n",
    "\n",
    "You want to maximize your profit by choosing a single day to buy one stock and choosing a different day in the future to sell that stock.\n",
    "\n",
    "Return the maximum profit you can achieve from this transaction. If you cannot achieve any profit, return 0.\n",
    "\n",
    "**Example :**\n",
    "\n",
    "Input: prices = [7,1,5,3,6,4]\n",
    "\n",
    "Output: 5\n",
    "\n",
    "Explanation: Buy on day 2 (price = 1) and sell on day 5 (price = 6), profit = 6-1 = 5.\n",
    "\n",
    "Note that buying on day 2 and selling on day 1 is not allowed because you must buy before you sell.\n",
    "\n",
    "TC: O(n)\n",
    "\n",
    "SC : O(1)\n",
    "\n"
   ]
  },
  {
   "cell_type": "code",
   "execution_count": 6,
   "metadata": {},
   "outputs": [
    {
     "name": "stdout",
     "output_type": "stream",
     "text": [
      "5\n"
     ]
    }
   ],
   "source": [
    "from typing import List\n",
    "\n",
    "\n",
    "class Solution:\n",
    "    def maxProfit(self, prices: List[int]) -> int:\n",
    "        min_price = float('inf')\n",
    "        max_profit = 0\n",
    "        for i in range(len(prices)):\n",
    "            if prices[i] < min_price:\n",
    "                min_price = prices[i]\n",
    "            elif prices[i] - min_price > max_profit:\n",
    "                max_profit = prices[i] - min_price\n",
    " \n",
    "        return max_profit\n",
    " \n",
    "\n",
    "nums =[7,1,5,3,6,4]\n",
    "profit = Solution()\n",
    "Max_Y = profit.maxProfit(nums)\n",
    "print(Max_Y)\n",
    "            \n"
   ]
  },
  {
   "cell_type": "markdown",
   "metadata": {},
   "source": [
    "\n",
    "💡 **Q3.** Given an integer array nums, find a subarray that has the largest product, and return the product.\n",
    "\n",
    "The test cases are generated so that the answer will fit in a 32-bit integer.\n",
    "\n",
    "**Example:**\n",
    "\n",
    "Input: nums = [2,3,-2,4]\n",
    "\n",
    "Output: 6\n",
    "\n",
    "Explanation: [2,3] has the largest product 6.\n"
   ]
  },
  {
   "cell_type": "code",
   "execution_count": 7,
   "metadata": {},
   "outputs": [
    {
     "name": "stdout",
     "output_type": "stream",
     "text": [
      "6\n"
     ]
    }
   ],
   "source": [
    "class Solution:\n",
    "    def maxProduct(self, nums):\n",
    "        \"\"\"\n",
    "        :type nums: List[int]\n",
    "        :rtype: int\n",
    "        \"\"\"\n",
    "        if len(nums) == 0:\n",
    "            return 0\n",
    "\n",
    "        max_so_far = nums[0]\n",
    "        min_so_far = nums[0]\n",
    "        result = max_so_far\n",
    "\n",
    "        for i in range(1, len(nums)):\n",
    "            curr = nums[i]\n",
    "            temp_max = max(curr, max_so_far * curr, min_so_far * curr)\n",
    "            min_so_far = min(curr, max_so_far * curr, min_so_far * curr)\n",
    "            max_so_far = temp_max\n",
    "\n",
    "            result = max(result, max_so_far)\n",
    "\n",
    "        return result\n",
    "\n",
    "\n",
    "nums = [2, 3, -2, 4]\n",
    "product = Solution()\n",
    "result = product.maxProduct(nums)\n",
    "print(result)\n",
    "   "
   ]
  },
  {
   "cell_type": "markdown",
   "metadata": {},
   "source": [
    "\n",
    "💡 **Q5.** Given an integer array nums and an integer k, return the kth largest element in the array. Note that it is the kth largest element in the sorted order, not the kth distinct element.\n",
    "\n",
    "**Example 1:**\n",
    "\n",
    "Input: nums = [3,2,1,5,6,4], k = 2\n",
    "\n",
    "Output: 5\n",
    "\n"
   ]
  },
  {
   "cell_type": "code",
   "execution_count": 8,
   "metadata": {},
   "outputs": [
    {
     "name": "stdout",
     "output_type": "stream",
     "text": [
      "5\n"
     ]
    }
   ],
   "source": [
    "import heapq\n",
    "\n",
    "class Solution:\n",
    "    def findKthLargest(self, nums, k):\n",
    "        \"\"\"\n",
    "        :type nums: List[int]\n",
    "        :type k: int\n",
    "        :rtype: int\n",
    "        \"\"\"\n",
    "        return heapq.nlargest(k, nums)[-1]\n",
    "\n",
    "nums = [3,2,1,5,6,4]\n",
    "k = 2\n",
    "profit = Solution()\n",
    "Max = profit.findKthLargest(nums, k)\n",
    "print(Max)\n",
    "    "
   ]
  }
 ],
 "metadata": {
  "kernelspec": {
   "display_name": "Python 3.8.10 64-bit",
   "language": "python",
   "name": "python3"
  },
  "language_info": {
   "codemirror_mode": {
    "name": "ipython",
    "version": 3
   },
   "file_extension": ".py",
   "mimetype": "text/x-python",
   "name": "python",
   "nbconvert_exporter": "python",
   "pygments_lexer": "ipython3",
   "version": "3.8.10"
  },
  "orig_nbformat": 4,
  "vscode": {
   "interpreter": {
    "hash": "e7370f93d1d0cde622a1f8e1c04877d8463912d04d973331ad4851f04de6915a"
   }
  }
 },
 "nbformat": 4,
 "nbformat_minor": 2
}
