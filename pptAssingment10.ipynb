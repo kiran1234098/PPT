{
 "cells": [
  {
   "cell_type": "markdown",
   "metadata": {},
   "source": [
    "\n",
    "💡 **Question 1**\n",
    "\n",
    "Given an integer `n`, return *`true` if it is a power of three. Otherwise, return `false`*.\n",
    "\n",
    "An integer `n` is a power of three, if there exists an integer `x` such that `n == 3x`.\n",
    "\n",
    "**Example 1:**\n",
    "<aside>\n",
    "💡 **Question 1**\n",
    "\n",
    "Given an integer `n`, return *`true` if it is a power of three. Otherwise, return `false`*.\n",
    "\n",
    "An integer `n` is a power of three, if there exists an integer `x` such that `n == 3x`.\n",
    "\n",
    "**Example 1:**\n",
    "\n",
    "```\n",
    "Input: n = 27\n",
    "Output: true\n",
    "Explanation: 27 = 33\n",
    "```\n",
    "\n",
    "**Example 2:**\n",
    "\n",
    "```\n",
    "Input: n = 0\n",
    "Output: false\n",
    "Explanation: There is no x where 3x = 0.\n",
    "\n",
    "```\n",
    "\n",
    "**Example 3:**\n",
    "\n",
    "</aside>\n",
    "</aside>"
   ]
  },
  {
   "cell_type": "code",
   "execution_count": 10,
   "metadata": {},
   "outputs": [
    {
     "name": "stdout",
     "output_type": "stream",
     "text": [
      "True\n",
      "False\n",
      "False\n"
     ]
    }
   ],
   "source": [
    "def power(n):\n",
    "    if n==1:\n",
    "        return True  \n",
    "    elif n<=0 or n%3!=0:\n",
    "        return False\n",
    "    else:\n",
    "        return power(n//3)\n",
    "n=27\n",
    "print(power(n))\n",
    "n=0\n",
    "print(power(n))\n",
    "n=-1\n",
    "print(power(n))"
   ]
  },
  {
   "cell_type": "markdown",
   "metadata": {},
   "source": [
    "\n",
    "💡 **Question 2**\n",
    "\n",
    "You have a list `arr` of all integers in the range `[1, n]` sorted in a strictly increasing order. Apply the following algorithm on `arr`:\n",
    "\n",
    "- Starting from left to right, remove the first number and every other number afterward until you reach the end of the list.\n",
    "- Repeat the previous step again, but this time from right to left, remove the rightmost number and every other number from the remaining numbers.\n",
    "- Keep repeating the steps again, alternating left to right and right to left, until a single number remains.\n",
    "\n",
    "Given the integer `n`, return *the last number that remains in* `arr`.\n",
    "\n",
    "**Example 1:**\n",
    "\n",
    "```\n",
    "Input: n = 9\n",
    "Output: 6\n",
    "Explanation:\n",
    "arr = [1, 2,3, 4,5, 6,7, 8,9]\n",
    "arr = [2,4, 6,8]\n",
    "arr = [2, 6]\n",
    "arr = [6]\n",
    "\n",
    "```\n",
    "\n",
    "**Example 2:**\n",
    "\n",
    "</aside>"
   ]
  },
  {
   "cell_type": "code",
   "execution_count": 6,
   "metadata": {},
   "outputs": [],
   "source": [
    "def lastRemaining(n):\n",
    "    if n == 1:\n",
    "        return 1\n",
    "    return 2 * (1 + n // 2 - lastRemaining(n // 2))\n",
    "\n",
    "\n",
    "   "
   ]
  },
  {
   "cell_type": "code",
   "execution_count": 9,
   "metadata": {},
   "outputs": [
    {
     "name": "stdout",
     "output_type": "stream",
     "text": [
      "6\n"
     ]
    }
   ],
   "source": [
    "r=lastRemaining(9)\n",
    "# Output: 6\n",
    "print(r)\n"
   ]
  },
  {
   "cell_type": "markdown",
   "metadata": {},
   "source": [
    "\n",
    "💡 **Question 3**\n",
    "\n",
    "****Given a set represented as a string, write a recursive code to print all subsets of it. The subsets can be printed in any order.\n",
    "\n",
    "**Example 1:**\n",
    "\n",
    "Input :  set = “abc”\n",
    "\n",
    "Output : { “”, “a”, “b”, “c”, “ab”, “ac”, “bc”, “abc”}\n",
    "\n",
    "**Example 2:**\n",
    "\n",
    "Input : set = “abcd”\n",
    "\n",
    "Output : { “”, “a” ,”ab” ,”abc” ,”abcd”, “abd” ,”ac” ,”acd”, “ad” ,”b”, “bc” ,”bcd” ,”bd” ,”c” ,”cd” ,”d” }\n",
    "\n",
    "</aside>"
   ]
  },
  {
   "cell_type": "code",
   "execution_count": 10,
   "metadata": {},
   "outputs": [],
   "source": [
    "def generateSubsets(set_str, index, prefix):\n",
    "    if index == len(set_str):\n",
    "        print(prefix)\n",
    "        return\n",
    "    \n",
    "    generateSubsets(set_str, index + 1, prefix + set_str[index])\n",
    "    generateSubsets(set_str, index + 1, prefix)\n",
    "\n",
    "def printSubsets(set_str):\n",
    "    generateSubsets(set_str, 0, \"\")\n",
    "\n",
    "generateSubsets(\"abx\")"
   ]
  },
  {
   "cell_type": "code",
   "execution_count": 11,
   "metadata": {},
   "outputs": [
    {
     "name": "stdout",
     "output_type": "stream",
     "text": [
      "abc\n",
      "ab\n",
      "ac\n",
      "a\n",
      "bc\n",
      "b\n",
      "c\n",
      "\n"
     ]
    }
   ],
   "source": [
    "printSubsets(\"abc\")\n",
    "# Output: \n",
    "# \n",
    "# abc\n",
    "# ab\n",
    "# ac\n",
    "# a\n",
    "# bc\n",
    "# b\n",
    "# c\n",
    "#\n"
   ]
  },
  {
   "cell_type": "markdown",
   "metadata": {},
   "source": [
    "\n",
    "💡 **Question 4**\n",
    "\n",
    "Given a string calculate length of the string using recursion.\n",
    "\n",
    "**Examples:**\n",
    "\n",
    "</aside>"
   ]
  },
  {
   "cell_type": "code",
   "execution_count": 12,
   "metadata": {},
   "outputs": [],
   "source": [
    "def calculateLength(string):\n",
    "    if string == \"\":\n",
    "        return 0\n",
    "    return 1 + calculateLength(string[1:])\n",
    "\n"
   ]
  },
  {
   "cell_type": "code",
   "execution_count": 13,
   "metadata": {},
   "outputs": [
    {
     "name": "stdout",
     "output_type": "stream",
     "text": [
      "3\n"
     ]
    }
   ],
   "source": [
    "print(calculateLength(\"abc\"))\n",
    "# Output: 3\n"
   ]
  },
  {
   "cell_type": "markdown",
   "metadata": {},
   "source": [
    "\n",
    "💡 **Question 5**\n",
    "\n",
    "We are given a string S, we need to find count of all contiguous substrings starting and ending with same character.\n",
    "\n",
    "**Examples :**\n",
    "\n",
    "</aside>"
   ]
  },
  {
   "cell_type": "code",
   "execution_count": 1,
   "metadata": {},
   "outputs": [],
   "source": [
    "def countContiguousSubstrings(string):\n",
    "    count = 0\n",
    "    n = len(string)\n",
    "\n",
    "    for i in range(n):\n",
    "        for j in range(i, n):\n",
    "            if string[i] == string[j]:\n",
    "                count += 1\n",
    "\n",
    "    return count\n"
   ]
  },
  {
   "cell_type": "markdown",
   "metadata": {},
   "source": [
    "\n",
    "💡 **Question 6**\n",
    "\n",
    "The [tower of Hanoi](https://en.wikipedia.org/wiki/Tower_of_Hanoi) is a famous puzzle where we have three rods and **N** disks. The objective of the puzzle is to move the entire stack to another rod. You are given the number of discs **N**. Initially, these discs are in the rod 1. You need to print all the steps of discs movement so that all the discs reach the 3rd rod. Also, you need to find the total moves.**Note:** The discs are arranged such that the **top disc is numbered 1** and the **bottom-most disc is numbered N**. Also, all the discs have **different sizes** and a bigger disc **cannot** be put on the top of a smaller disc. Refer the provided link to get a better clarity about the puzzle.\n",
    "\n"
   ]
  },
  {
   "cell_type": "code",
   "execution_count": 3,
   "metadata": {},
   "outputs": [
    {
     "name": "stdout",
     "output_type": "stream",
     "text": [
      "Move disc 1 from rod 1 to rod 2\n",
      "Move disc 2 from rod 1 to rod 3\n",
      "Move disc 1 from rod 2 to rod 3\n",
      "\n",
      "Total moves required: 3\n"
     ]
    }
   ],
   "source": [
    "def tower_of_hanoi(n, source, destination, auxiliary):\n",
    "    if n == 1:\n",
    "        print(f\"Move disc 1 from rod {source} to rod {destination}\")\n",
    "        return 1\n",
    "    else:\n",
    "        moves = 0\n",
    "        moves += tower_of_hanoi(n-1, source, auxiliary, destination)\n",
    "        print(f\"Move disc {n} from rod {source} to rod {destination}\")\n",
    "        moves += 1\n",
    "        moves += tower_of_hanoi(n-1, auxiliary, destination, source)\n",
    "        return moves\n",
    "\n",
    "# Test the function\n",
    "n = int(input(\"Enter the number of discs: \"))\n",
    "total_moves = tower_of_hanoi(n, 1, 3, 2)\n",
    "print(f\"\\nTotal moves required: {total_moves}\")\n"
   ]
  },
  {
   "cell_type": "markdown",
   "metadata": {},
   "source": [
    "\n",
    "💡 **Question 7**\n",
    "\n",
    "Given a string **str**, the task is to print all the permutations of **str**. A **permutation** is an arrangement of all or part of a set of objects, with regard to the order of the arrangement. For instance, the words ‘bat’ and ‘tab’ represents two distinct permutation (or arrangements) of a similar three letter word.\n",
    "\n",
    "</aside>"
   ]
  },
  {
   "cell_type": "code",
   "execution_count": 4,
   "metadata": {},
   "outputs": [
    {
     "name": "stdout",
     "output_type": "stream",
     "text": [
      "cd\n",
      "dc\n"
     ]
    }
   ],
   "source": [
    "def permute_string(s, l, r):\n",
    "    if l == r:\n",
    "        print(\"\".join(s))\n",
    "    else:\n",
    "        for i in range(l, r + 1):\n",
    "            s[l], s[i] = s[i], s[l]\n",
    "            permute_string(s, l + 1, r)\n",
    "            s[l], s[i] = s[i], s[l]  # backtrack\n",
    "\n",
    "# Test the function\n",
    "str_input = input(\"Enter a string: \")\n",
    "str_length = len(str_input)\n",
    "string_list = list(str_input)\n",
    "permute_string(string_list, 0, str_length - 1)\n"
   ]
  },
  {
   "cell_type": "markdown",
   "metadata": {},
   "source": [
    "\n",
    "💡 **Question 8**\n",
    "\n",
    "Given a string, count total number of consonants in it. A consonant is an English alphabet character that is not vowel (a, e, i, o and u). Examples of constants are b, c, d, f, and g.\n",
    "\n",
    "</aside>"
   ]
  },
  {
   "cell_type": "code",
   "execution_count": 5,
   "metadata": {},
   "outputs": [
    {
     "name": "stdout",
     "output_type": "stream",
     "text": [
      "Total number of consonants: 3\n"
     ]
    }
   ],
   "source": [
    "def count_consonants(string):\n",
    "    consonants = \"bcdfghjklmnpqrstvwxyzBCDFGHJKLMNPQRSTVWXYZ\"\n",
    "    count = 0\n",
    "    for char in string:\n",
    "        if char in consonants:\n",
    "            count += 1\n",
    "    return count\n",
    "\n",
    "# Test the function\n",
    "input_string = input(\"Enter a string: \")\n",
    "consonant_count = count_consonants(input_string)\n",
    "print(f\"Total number of consonants: {consonant_count}\")\n"
   ]
  }
 ],
 "metadata": {
  "kernelspec": {
   "display_name": "Python 3.8.10 64-bit",
   "language": "python",
   "name": "python3"
  },
  "language_info": {
   "codemirror_mode": {
    "name": "ipython",
    "version": 3
   },
   "file_extension": ".py",
   "mimetype": "text/x-python",
   "name": "python",
   "nbconvert_exporter": "python",
   "pygments_lexer": "ipython3",
   "version": "3.8.10"
  },
  "orig_nbformat": 4,
  "vscode": {
   "interpreter": {
    "hash": "e7370f93d1d0cde622a1f8e1c04877d8463912d04d973331ad4851f04de6915a"
   }
  }
 },
 "nbformat": 4,
 "nbformat_minor": 2
}
