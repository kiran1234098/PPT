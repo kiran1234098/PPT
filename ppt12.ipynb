{
 "cells": [
  {
   "cell_type": "markdown",
   "metadata": {},
   "source": [
    "\n",
    "💡 **Question 1**\n",
    "\n",
    "There is a singly-linked list `head` and we want to delete a node `node` in it.\n",
    "\n",
    "You are given the node to be deleted `node`. You will **not be given access** to the first node of `head`.\n",
    "\n",
    "All the values of the linked list are **unique**, and it is guaranteed that the given node `node` is not the last node in the linked list.\n",
    "\n",
    "Delete the given node. Note that by deleting the node, we do not mean removing it from memory. We mean:\n",
    "\n",
    "- The value of the given node should not exist in the linked list.\n",
    "- The number of nodes in the linked list should decrease by one.\n",
    "- All the values before `node` should be in the same order.\n",
    "- All the values after `node` should be in the same order.\n",
    "\n",
    "**Custom testing:**\n",
    "\n",
    "- For the input, you should provide the entire linked list `head` and the node to be given `node`. `node` should not be the last node of the list and should be an actual node in the list.\n",
    "- We will build the linked list and pass the node to your function.\n",
    "- The output will be the entire list after calling your function.\n",
    "\n",
    "**Example 1:**\n",
    "\n",
    "!https://assets.leetcode.com/uploads/2020/09/01/node1.jpg\n",
    "\n",
    "```\n",
    "Input: head = [4,5,1,9], node = 5\n",
    "Output: [4,1,9]\n",
    "Explanation:You are given the second node with value 5, the linked list should become 4 -> 1 -> 9 after calling your function.\n",
    "\n",
    "```\n",
    "\n",
    "**Example 2:**\n",
    "\n",
    "!https://assets.leetcode.com/uploads/2020/09/01/node2.jpg\n",
    "\n",
    "```\n",
    "Input: head = [4,5,1,9], node = 1\n",
    "Output: [4,5,9]\n",
    "Explanation:You are given the third node with value 1, the linked list should become 4 -> 5 -> 9 after calling your function.\n",
    "```\n",
    "\n",
    "# **Approach:**\n",
    "\n",
    "We first update the value of the current node with the value of its next node, and then we skip the next node by pointing the current node's next pointer to its next node's next pointer.\n",
    "\n",
    "---\n",
    "\n",
    "# **Complexity:**\n",
    "\n",
    "- Time complexity: Since we are only modifying the value and next pointer of the given node, the time complexity of this algorithm is O(1).\n",
    "- Space complexity: As we are not using any extra space, the space complexity of this algorithm is O(1).\n",
    "\n",
    "**Solution :**\n",
    "\n"
   ]
  }
 ],
 "metadata": {
  "kernelspec": {
   "display_name": "Python 3.8.10 64-bit",
   "language": "python",
   "name": "python3"
  },
  "language_info": {
   "codemirror_mode": {
    "name": "ipython",
    "version": 3
   },
   "file_extension": ".py",
   "mimetype": "text/x-python",
   "name": "python",
   "nbconvert_exporter": "python",
   "pygments_lexer": "ipython3",
   "version": "3.8.10"
  },
  "orig_nbformat": 4,
  "vscode": {
   "interpreter": {
    "hash": "e7370f93d1d0cde622a1f8e1c04877d8463912d04d973331ad4851f04de6915a"
   }
  }
 },
 "nbformat": 4,
 "nbformat_minor": 2
}
