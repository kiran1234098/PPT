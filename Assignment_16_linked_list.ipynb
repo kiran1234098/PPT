{
  "nbformat": 4,
  "nbformat_minor": 0,
  "metadata": {
    "colab": {
      "provenance": []
    },
    "kernelspec": {
      "name": "python3",
      "display_name": "Python 3"
    },
    "language_info": {
      "name": "python"
    }
  },
  "cells": [
    {
      "cell_type": "markdown",
      "source": [],
      "metadata": {
        "id": "e9T4rKB2u7yr"
      }
    },
    {
      "cell_type": "markdown",
      "source": [
        "Question 1 : Given an array, for each element find the value of the nearest element to the right which is having a frequency greater than that of the current element. If there does not exist an answer for a position, then make the value ‘-1’."
      ],
      "metadata": {
        "id": "-_R99Bpou9V7"
      }
    },
    {
      "cell_type": "code",
      "source": [
        "def findNextGreaterFrequency(arr):\n",
        "    frequency = {}  # Frequency map to store the count of each element\n",
        "    stack = []  # Stack to store the indices of elements with increasing frequency\n",
        "    result = [-1] * len(arr)  # Result array initialized with -1\n",
        "\n",
        "    # Calculate the frequency of each element\n",
        "    for num in arr:\n",
        "        if num in frequency:\n",
        "            frequency[num] += 1\n",
        "        else:\n",
        "            frequency[num] = 1\n",
        "\n",
        "    # Iterate over the array from right to left\n",
        "    for i in range(len(arr) - 1, -1, -1):\n",
        "        while stack and frequency[arr[i]] >= frequency[arr[stack[-1]]]:\n",
        "            stack.pop()  # Remove indices of elements with lower frequency\n",
        "        if stack:\n",
        "            result[i] = arr[stack[-1]]  # Assign the nearest element with higher frequency\n",
        "        stack.append(i)  # Push the current index onto the stack\n",
        "\n",
        "    return result\n",
        "\n",
        "# Example usage\n",
        "arr = [1, 1, 2, 3, 4, 2, 1]\n",
        "result = findNextGreaterFrequency(arr)\n",
        "print(\"Next Greater Frequency:\", result)\n"
      ],
      "metadata": {
        "colab": {
          "base_uri": "https://localhost:8080/"
        },
        "id": "vvX7HYJXvKhm",
        "outputId": "45fe089c-7e30-4f89-b757-c77e40b9bc2d"
      },
      "execution_count": 25,
      "outputs": [
        {
          "output_type": "stream",
          "name": "stdout",
          "text": [
            "Next Greater Frequency: [-1, -1, 1, 2, 2, 1, -1]\n"
          ]
        }
      ]
    },
    {
      "cell_type": "markdown",
      "source": [
        "Question 2: <aside>\n",
        "\n",
        "Given a stack of integers, sort it in ascending order using another temporary stack.\n",
        "\n",
        "</aside>"
      ],
      "metadata": {
        "id": "M2QAKFBbvcAx"
      }
    },
    {
      "cell_type": "code",
      "source": [
        "def sortStack(stack):\n",
        "    tempStack = []\n",
        "\n",
        "    while stack:\n",
        "        temp = stack.pop()\n",
        "\n",
        "        while tempStack and tempStack[-1] > temp:\n",
        "            stack.append(tempStack.pop())\n",
        "\n",
        "        tempStack.append(temp)\n",
        "\n",
        "    while tempStack:\n",
        "        stack.append(tempStack.pop())\n",
        "\n",
        "    return stack\n",
        "\n",
        "# Example usage\n",
        "stack = [34, 3, 31, 98, 92, 23]\n",
        "sortedStack = sortStack(stack)\n",
        "print(\"Sorted Stack:\", sortedStack)\n"
      ],
      "metadata": {
        "colab": {
          "base_uri": "https://localhost:8080/"
        },
        "id": "MTaBtvnAvihM",
        "outputId": "4936cd98-57bf-47fb-f691-8e144ce1e78e"
      },
      "execution_count": 26,
      "outputs": [
        {
          "output_type": "stream",
          "name": "stdout",
          "text": [
            "Sorted Stack: [98, 92, 34, 31, 23, 3]\n"
          ]
        }
      ]
    },
    {
      "cell_type": "markdown",
      "source": [
        "Question 3: Given a stack with **push()**, **pop()**, and **empty()** operations, The task is to delete the **middle** element ****of it without using any additional data structure.\n",
        "\n",
        "Input  : Stack[] = [1, 2, 3, 4, 5]\n",
        "\n",
        "Output : Stack[] = [1, 2, 4, 5]\n",
        "\n",
        "Input  : Stack[] = [1, 2, 3, 4, 5, 6]\n",
        "\n",
        "Output : Stack[] = [1, 2, 4, 5, 6]"
      ],
      "metadata": {
        "id": "36YKFwyQv1V5"
      }
    },
    {
      "cell_type": "code",
      "source": [
        "def deleteMiddle(stack, pos):\n",
        "    if pos == 1:\n",
        "        stack.pop()\n",
        "        return\n",
        "\n",
        "    temp = stack.pop()\n",
        "\n",
        "    deleteMiddle(stack, pos - 1)\n",
        "\n",
        "    stack.append(temp)\n",
        "\n",
        "\n",
        "def deleteMiddleElement(stack):\n",
        "    size = len(stack)\n",
        "\n",
        "    if size == 0:\n",
        "        return\n",
        "\n",
        "    pos = (size // 2) + 1\n",
        "\n",
        "    deleteMiddle(stack, pos)\n",
        "\n",
        "\n",
        "# Example usage\n",
        "stack = [1, 2, 3, 4, 5]\n",
        "deleteMiddleElement(stack)\n",
        "print(\"Updated Stack:\", stack)\n"
      ],
      "metadata": {
        "colab": {
          "base_uri": "https://localhost:8080/"
        },
        "id": "CDvMLFgPv5qo",
        "outputId": "a932ff1c-9ef0-4421-9ecd-a34be0b3d87e"
      },
      "execution_count": 27,
      "outputs": [
        {
          "output_type": "stream",
          "name": "stdout",
          "text": [
            "Updated Stack: [1, 2, 4, 5]\n"
          ]
        }
      ]
    },
    {
      "cell_type": "markdown",
      "source": [
        "Question 4 : <aside>\n",
        "\n",
        "\n",
        "Given a Queue consisting of first **n** natural numbers (in random order). The task is to check whether the given Queue elements can be arranged in increasing order in another Queue using a stack. The operation allowed are:\n",
        "\n",
        "1. Push and pop elements from the stack\n",
        "2. Pop (Or Dequeue) from the given Queue.\n",
        "3. Push (Or Enqueue) in the another Queue.\n",
        "</aside>"
      ],
      "metadata": {
        "id": "rFiO76S6wIto"
      }
    },
    {
      "cell_type": "code",
      "source": [
        "from queue import Queue\n",
        "\n",
        "\n",
        "def canArrangeInIncreasingOrder(queue):\n",
        "    stack = []\n",
        "    expected = 1\n",
        "\n",
        "    while not queue.empty():\n",
        "        if not stack and queue.queue[0] == expected:\n",
        "            queue.get()\n",
        "            expected += 1\n",
        "        elif stack and stack[-1] == expected:\n",
        "            stack.pop()\n",
        "            expected += 1\n",
        "        else:\n",
        "            stack.append(queue.get())\n",
        "\n",
        "    while stack:\n",
        "        if stack[-1] == expected:\n",
        "            stack.pop()\n",
        "            expected += 1\n",
        "        else:\n",
        "            return False\n",
        "\n",
        "    return expected == queue.qsize() + 1\n",
        "\n",
        "\n",
        "# Example usage\n",
        "queue = Queue()\n",
        "queue.put(3)\n",
        "queue.put(1)\n",
        "queue.put(2)\n",
        "\n",
        "print(\"Can be arranged in increasing order:\", canArrangeInIncreasingOrder(queue))\n"
      ],
      "metadata": {
        "colab": {
          "base_uri": "https://localhost:8080/"
        },
        "id": "pjI7g9O_wO1T",
        "outputId": "e8da9032-863d-4bcd-d5ee-5afc28a1c65d"
      },
      "execution_count": 28,
      "outputs": [
        {
          "output_type": "stream",
          "name": "stdout",
          "text": [
            "Can be arranged in increasing order: False\n"
          ]
        }
      ]
    },
    {
      "cell_type": "markdown",
      "source": [
        "Question 5 : Given a number , write a program to reverse this number using stack."
      ],
      "metadata": {
        "id": "1xVjjxCUwW6m"
      }
    },
    {
      "cell_type": "code",
      "source": [
        "def reverse_number(number):\n",
        "    stack = []\n",
        "\n",
        "    # Convert the number to a string and push each digit into the stack\n",
        "    for digit in str(number):\n",
        "        stack.append(digit)\n",
        "\n",
        "    reversed_number = \"\"\n",
        "\n",
        "    # Pop digits from the stack and append them to the reversed_number string\n",
        "    while stack:\n",
        "        reversed_number += stack.pop()\n",
        "\n",
        "    return int(reversed_number)\n",
        "\n",
        "\n",
        "# Example usage\n",
        "number = 12345\n",
        "reversed_number = reverse_number(number)\n",
        "print(\"Reversed number:\", reversed_number)\n"
      ],
      "metadata": {
        "colab": {
          "base_uri": "https://localhost:8080/"
        },
        "id": "TnUP_UdFwcmg",
        "outputId": "7a8e8521-4d34-47ed-a476-01b740ceb7be"
      },
      "execution_count": 29,
      "outputs": [
        {
          "output_type": "stream",
          "name": "stdout",
          "text": [
            "Reversed number: 54321\n"
          ]
        }
      ]
    },
    {
      "cell_type": "markdown",
      "source": [
        "Question 6: Given an integer k and a **[queue](https://www.geeksforgeeks.org/queue-data-structure/)** of integers, The task is to reverse the order of the first **k** elements of the queue, leaving the other elements in the same relative order.\n",
        "\n",
        "Only following standard operations are allowed on queue.\n",
        "\n",
        "- **enqueue(x) :** Add an item x to rear of queue\n",
        "- **dequeue() :** Remove an item from front of queue\n",
        "- **size() :** Returns number of elements in queue.\n",
        "- **front() :** Finds front item."
      ],
      "metadata": {
        "id": "-CVOxAm5wqSP"
      }
    },
    {
      "cell_type": "code",
      "source": [
        "from queue import Queue\n",
        "\n",
        "def reverse_k_elements(queue, k):\n",
        "    if queue.empty() or k <= 0 or k > queue.qsize():\n",
        "        return\n",
        "\n",
        "    stack = []\n",
        "\n",
        "    # Remove and store the first k elements in a stack\n",
        "    for _ in range(k):\n",
        "        stack.append(queue.get())\n",
        "\n",
        "    # Re-insert the elements from the stack to the queue\n",
        "    while stack:\n",
        "        queue.put(stack.pop())\n",
        "\n",
        "    # Move the remaining elements after the kth position to the rear of the queue\n",
        "    for _ in range(queue.qsize() - k):\n",
        "        queue.put(queue.get())\n",
        "\n",
        "\n",
        "# Example usage\n",
        "queue = Queue()\n",
        "queue.put(1)\n",
        "queue.put(2)\n",
        "queue.put(3)\n",
        "queue.put(4)\n",
        "queue.put(5)\n",
        "\n",
        "k = 3\n",
        "\n",
        "print(\"Original Queue:\", list(queue.queue))\n",
        "reverse_k_elements(queue, k)\n",
        "print(\"Reversed Queue:\", list(queue.queue))\n"
      ],
      "metadata": {
        "colab": {
          "base_uri": "https://localhost:8080/"
        },
        "id": "amaAPatowu00",
        "outputId": "fcbec935-9245-4988-a44a-f0cfae6d8202"
      },
      "execution_count": 30,
      "outputs": [
        {
          "output_type": "stream",
          "name": "stdout",
          "text": [
            "Original Queue: [1, 2, 3, 4, 5]\n",
            "Reversed Queue: [3, 2, 1, 4, 5]\n"
          ]
        }
      ]
    },
    {
      "cell_type": "markdown",
      "source": [
        "Question 7 : Given a sequence of n strings, the task is to check if any two similar words come together and then destroy each other then print the number of words left in the sequence after this pairwise destruction.\n",
        "\n",
        "**Examples:**\n",
        "\n",
        "Input : ab aa aa bcd ab\n",
        "\n",
        "Output : 3\n",
        "\n",
        "*As aa, aa destroys each other so,*\n",
        "\n",
        "*ab bcd ab is the new sequence.*"
      ],
      "metadata": {
        "id": "le4VlcJTw__P"
      }
    },
    {
      "cell_type": "code",
      "source": [
        "def pairwise_destruction(words):\n",
        "    stack = []\n",
        "\n",
        "    for word in words:\n",
        "        if stack and stack[-1] == word:\n",
        "            stack.pop()\n",
        "        else:\n",
        "            stack.append(word)\n",
        "\n",
        "    return len(stack)\n",
        "\n",
        "\n",
        "# Example usage\n",
        "words = [\"ab\", \"aa\", \"aa\", \"bcd\", \"ab\"]\n",
        "result = pairwise_destruction(words)\n",
        "print(\"Number of words left:\", result)\n"
      ],
      "metadata": {
        "colab": {
          "base_uri": "https://localhost:8080/"
        },
        "id": "yMBbLGGkxFhA",
        "outputId": "746c4119-19f4-4276-ab6a-06f77ae07fdd"
      },
      "execution_count": 31,
      "outputs": [
        {
          "output_type": "stream",
          "name": "stdout",
          "text": [
            "Number of words left: 3\n"
          ]
        }
      ]
    },
    {
      "cell_type": "markdown",
      "source": [
        "Question 8 : Given an array of integers, the task is to find the maximum absolute difference between the nearest left and the right smaller element of every element in the array.\n",
        "\n",
        "**Note:** If there is no smaller element on right side or left side of any element then we take zero as the smaller element. For example for the leftmost element, the nearest smaller element on the left side is considered as 0. Similarly, for rightmost elements, the smaller element on the right side is considered as 0."
      ],
      "metadata": {
        "id": "YWUTaQFjxYlX"
      }
    },
    {
      "cell_type": "code",
      "source": [
        "def max_absolute_difference(arr):\n",
        "    n = len(arr)\n",
        "    left_smaller = [0] * n\n",
        "    right_smaller = [0] * n\n",
        "    stack = []\n",
        "    max_diff = float('-inf')\n",
        "\n",
        "    # Find nearest smaller element on the left side\n",
        "    for i in range(n):\n",
        "        while stack and arr[stack[-1]] >= arr[i]:\n",
        "            stack.pop()\n",
        "        if stack:\n",
        "            left_smaller[i] = arr[stack[-1]]\n",
        "        stack.append(i)\n",
        "\n",
        "    stack.clear()\n",
        "\n",
        "    # Find nearest smaller element on the right side\n",
        "    for i in range(n-1, -1, -1):\n",
        "        while stack and arr[stack[-1]] >= arr[i]:\n",
        "            stack.pop()\n",
        "        if stack:\n",
        "            right_smaller[i] = arr[stack[-1]]\n",
        "        stack.append(i)\n",
        "\n",
        "    # Calculate the maximum absolute difference\n",
        "    for i in range(n):\n",
        "        diff = abs(left_smaller[i] - right_smaller[i])\n",
        "        max_diff = max(max_diff, diff)\n",
        "\n",
        "    return max_diff\n",
        "\n",
        "\n",
        "# Example usage\n",
        "arr = [2, 4, 8, 7, 7, 9, 3]\n",
        "result = max_absolute_difference(arr)\n",
        "print(\"Maximum absolute difference:\", result)\n"
      ],
      "metadata": {
        "colab": {
          "base_uri": "https://localhost:8080/"
        },
        "id": "THWUuwHVxdzZ",
        "outputId": "474d49a0-b07b-45ce-e89c-abeee33af18e"
      },
      "execution_count": 32,
      "outputs": [
        {
          "output_type": "stream",
          "name": "stdout",
          "text": [
            "Maximum absolute difference: 4\n"
          ]
        }
      ]
    }
  ]
}