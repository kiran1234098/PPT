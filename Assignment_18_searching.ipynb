{
  "nbformat": 4,
  "nbformat_minor": 0,
  "metadata": {
    "colab": {
      "provenance": []
    },
    "kernelspec": {
      "name": "python3",
      "display_name": "Python 3"
    },
    "language_info": {
      "name": "python"
    }
  },
  "cells": [
    {
      "cell_type": "markdown",
      "source": [
        "<aside>\n",
        "💡 1. **Merge Intervals**\n",
        "\n",
        "Given an array of `intervals` where `intervals[i] = [starti, endi]`, merge all overlapping intervals, and return *an array of the non-overlapping intervals that cover all the intervals in the input*.\n",
        "\n",
        "</aside>"
      ],
      "metadata": {
        "id": "yEpMPrnm1UCk"
      }
    },
    {
      "cell_type": "code",
      "source": [
        "def merge(intervals):\n",
        "    intervals.sort(key=lambda x: x[0])  # Sort intervals based on start time\n",
        "    merged = []\n",
        "\n",
        "    for interval in intervals:\n",
        "        if not merged or interval[0] > merged[-1][1]:\n",
        "            merged.append(interval)\n",
        "        else:\n",
        "            merged[-1][1] = max(merged[-1][1], interval[1])\n",
        "\n",
        "    return merged\n"
      ],
      "metadata": {
        "id": "7WMxvilu1VbV"
      },
      "execution_count": 41,
      "outputs": []
    },
    {
      "cell_type": "markdown",
      "source": [
        "<aside>\n",
        "💡 2. **Sort Colors**\n",
        "\n",
        "Given an array `nums` with `n` objects colored red, white, or blue, sort them **[in-place](https://en.wikipedia.org/wiki/In-place_algorithm)** so that objects of the same color are adjacent, with the colors in the order red, white, and blue.\n",
        "\n",
        "We will use the integers `0`, `1`, and `2` to represent the color red, white, and blue, respectively.\n",
        "\n",
        "You must solve this problem without using the library's sort function.\n",
        "\n",
        "</aside>"
      ],
      "metadata": {
        "id": "-4boT_Xk1pFO"
      }
    },
    {
      "cell_type": "code",
      "source": [
        "\n",
        "def sortColors(nums):\n",
        "    low = 0\n",
        "    mid = 0\n",
        "    high = len(nums) - 1\n",
        "\n",
        "    while mid <= high:\n",
        "        if nums[mid] == 0:  # Red color\n",
        "            nums[mid], nums[low] = nums[low], nums[mid]\n",
        "            low += 1\n",
        "            mid += 1\n",
        "        elif nums[mid] == 1:  # White color\n",
        "            mid += 1\n",
        "        else:  # Blue color\n",
        "            nums[mid], nums[high] = nums[high], nums[mid]\n",
        "            high -= 1\n"
      ],
      "metadata": {
        "id": "Et4F-uFs1spL"
      },
      "execution_count": 42,
      "outputs": []
    },
    {
      "cell_type": "markdown",
      "source": [
        "<aside>\n",
        "💡 3. **First Bad Version Solution**\n",
        "\n",
        "You are a product manager and currently leading a team to develop a new product. Unfortunately, the latest version of your product fails the quality check. Since each version is developed based on the previous version, all the versions after a bad version are also bad.\n",
        "\n",
        "Suppose you have `n` versions `[1, 2, ..., n]` and you want to find out the first bad one, which causes all the following ones to be bad.\n",
        "\n",
        "You are given an API `bool isBadVersion(version)` which returns whether `version` is bad. Implement a function to find the first bad version. You should minimize the number of calls to the API.\n",
        "\n",
        "</aside>"
      ],
      "metadata": {
        "id": "wGHC0amz2Cw8"
      }
    },
    {
      "cell_type": "code",
      "source": [
        "def firstBadVersion(n):\n",
        "    left = 1\n",
        "    right = n\n",
        "\n",
        "    while left < right:\n",
        "        mid = left + (right - left) // 2\n",
        "        if isBadVersion(mid):\n",
        "            right = mid\n",
        "        else:\n",
        "            left = mid + 1\n",
        "\n",
        "    return left\n"
      ],
      "metadata": {
        "id": "pM4LxO-e2GYj"
      },
      "execution_count": 43,
      "outputs": []
    },
    {
      "cell_type": "markdown",
      "source": [
        "<aside>\n",
        "💡 4. **Maximum Gap**\n",
        "\n",
        "Given an integer array `nums`, return *the maximum difference between two successive elements in its sorted form*. If the array contains less than two elements, return `0`.\n",
        "\n",
        "You must write an algorithm that runs in linear time and uses linear extra space.\n",
        "\n",
        "</aside>"
      ],
      "metadata": {
        "id": "r7z9tr5Q2VWb"
      }
    },
    {
      "cell_type": "code",
      "source": [
        "def maximumGap(nums):\n",
        "    if len(nums) < 2:\n",
        "        return 0\n",
        "\n",
        "    max_num = max(nums)\n",
        "    exp = 1\n",
        "    buckets = [0] * 10\n",
        "\n",
        "    while max_num // exp > 0:\n",
        "        buckets = [0] * 10\n",
        "\n",
        "        for num in nums:\n",
        "            digit = (num // exp) % 10\n",
        "            buckets[digit] += 1\n",
        "\n",
        "        for i in range(1, 10):\n",
        "            buckets[i] += buckets[i - 1]\n",
        "\n",
        "        sorted_nums = [0] * len(nums)\n",
        "\n",
        "        for num in reversed(nums):\n",
        "            digit = (num // exp) % 10\n",
        "            index = buckets[digit] - 1\n",
        "            sorted_nums[index] = num\n",
        "            buckets[digit] -= 1\n",
        "\n",
        "        nums = sorted_nums\n",
        "        exp *= 10\n",
        "\n",
        "    max_gap = 0\n",
        "\n",
        "    for i in range(1, len(nums)):\n",
        "        max_gap = max(max_gap, nums[i] - nums[i - 1])\n",
        "\n",
        "    return max_gap\n"
      ],
      "metadata": {
        "id": "ueMkW0tQ2ZDF"
      },
      "execution_count": 44,
      "outputs": []
    },
    {
      "cell_type": "markdown",
      "source": [
        "<aside>\n",
        "💡 5. **Contains Duplicate**\n",
        "\n",
        "Given an integer array `nums`, return `true` if any value appears **at least twice** in the array, and return `false` if every element is distinct.\n",
        "\n",
        "</aside>"
      ],
      "metadata": {
        "id": "eKvoYrHH2ojk"
      }
    },
    {
      "cell_type": "code",
      "source": [
        "def containsDuplicate(nums):\n",
        "    unique_set = set()\n",
        "\n",
        "    for num in nums:\n",
        "        if num in unique_set:\n",
        "            return True\n",
        "        unique_set.add(num)\n",
        "\n",
        "    return False\n"
      ],
      "metadata": {
        "id": "uGHXEEVO2pZB"
      },
      "execution_count": 45,
      "outputs": []
    },
    {
      "cell_type": "markdown",
      "source": [
        "<aside>\n",
        "💡 6. **Minimum Number of Arrows to Burst Balloons**\n",
        "\n",
        "There are some spherical balloons taped onto a flat wall that represents the XY-plane. The balloons are represented as a 2D integer array `points` where `points[i] = [xstart, xend]` denotes a balloon whose **horizontal diameter** stretches between `xstart` and `xend`. You do not know the exact y-coordinates of the balloons.\n",
        "\n",
        "Arrows can be shot up **directly vertically** (in the positive y-direction) from different points along the x-axis. A balloon with `xstart` and `xend` is **burst** by an arrow shot at `x` if `xstart <= x <= xend`. There is **no limit** to the number of arrows that can be shot. A shot arrow keeps traveling up infinitely, bursting any balloons in its path.\n",
        "\n",
        "Given the array `points`, return *the **minimum** number of arrows that must be shot to burst all balloons*.\n",
        "\n",
        "</aside>"
      ],
      "metadata": {
        "id": "M6mTy8XA2-wv"
      }
    },
    {
      "cell_type": "code",
      "source": [
        "def findMinArrowShots(points):\n",
        "    if not points:\n",
        "        return 0\n",
        "\n",
        "    points.sort(key=lambda x: x[1])  # Sort balloons based on end coordinates\n",
        "    arrows = 1\n",
        "    end = points[0][1]\n",
        "\n",
        "    for i in range(1, len(points)):\n",
        "        if points[i][0] > end:\n",
        "            # Need a new arrow since current arrow cannot burst this balloon\n",
        "            arrows += 1\n",
        "            end = points[i][1]\n",
        "        else:\n",
        "            # Current arrow can burst this balloon as well\n",
        "            end = min(end, points[i][1])\n",
        "\n",
        "    return arrows\n"
      ],
      "metadata": {
        "id": "_PMC2Vuz3CXm"
      },
      "execution_count": 46,
      "outputs": []
    },
    {
      "cell_type": "markdown",
      "source": [
        "<aside>\n",
        "💡 7. **Longest Increasing Subsequence**\n",
        "\n",
        "Given an integer array `nums`, return *the length of the longest **strictly increasing***\n",
        "\n",
        "***subsequence***\n",
        "\n",
        "</aside>"
      ],
      "metadata": {
        "id": "NbZtTouc3Oli"
      }
    },
    {
      "cell_type": "code",
      "source": [
        "def lengthOfLIS(nums):\n",
        "    if not nums:\n",
        "        return 0\n",
        "\n",
        "    n = len(nums)\n",
        "    dp = [1] * n\n",
        "\n",
        "    for i in range(1, n):\n",
        "        for j in range(i):\n",
        "            if nums[i] > nums[j]:\n",
        "                dp[i] = max(dp[i], dp[j] + 1)\n",
        "\n",
        "    return max(dp)\n"
      ],
      "metadata": {
        "id": "hf5qvnNI3SU1"
      },
      "execution_count": 47,
      "outputs": []
    },
    {
      "cell_type": "markdown",
      "source": [
        "<aside>\n",
        "💡 8. **132 Pattern**\n",
        "\n",
        "Given an array of `n` integers `nums`, a **132 pattern** is a subsequence of three integers `nums[i]`, `nums[j]` and `nums[k]` such that `i < j < k` and `nums[i] < nums[k] < nums[j]`.\n",
        "\n",
        "Return `true` *if there is a **132 pattern** in* `nums`*, otherwise, return* `false`*.*\n",
        "\n",
        "</aside>"
      ],
      "metadata": {
        "id": "TjzBwsH_3a-T"
      }
    },
    {
      "cell_type": "code",
      "source": [
        "def find132pattern(nums):\n",
        "    stack = []\n",
        "    max_k = float('-inf')\n",
        "\n",
        "    for i in range(len(nums) - 1, -1, -1):\n",
        "        if nums[i] < max_k:\n",
        "            return True\n",
        "\n",
        "        while stack and stack[-1] < nums[i]:\n",
        "            max_k = max(max_k, stack.pop())\n",
        "\n",
        "        stack.append(nums[i])\n",
        "\n",
        "    return False\n"
      ],
      "metadata": {
        "id": "lHyXP1dN3gfC"
      },
      "execution_count": null,
      "outputs": []
    }
  ]
}