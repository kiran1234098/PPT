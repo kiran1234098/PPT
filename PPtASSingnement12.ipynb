{
 "cells": [
  {
   "cell_type": "markdown",
   "metadata": {},
   "source": [
    "\n",
    "💡 **Question 1**\n",
    "\n",
    "Given a singly linked list, delete **middle** of the linked list. For example, if given linked list is 1->2->**3**->4->5 then linked list should be modified to 1->2->4->5.If there are **even** nodes, then there would be **two middle** nodes, we need to delete the second middle element. For example, if given linked list is 1->2->3->4->5->6 then it should be modified to 1->2->3->5->6.If the input linked list is NULL or has 1 node, then it should return NULL\n",
    "\n",
    "**Example 1:**\n",
    "\n",
    "```\n",
    "Input:\n",
    "LinkedList: 1->2->3->4->5\n",
    "Output:1 2 4 5\n",
    "\n",
    "```\n",
    "\n",
    "**Example 2:**\n"
   ]
  },
  {
   "cell_type": "code",
   "execution_count": 2,
   "metadata": {},
   "outputs": [],
   "source": [
    "class Node:\n",
    "    def __init__(self, data):\n",
    "        self.data = data\n",
    "        self.next = None\n",
    "\n",
    "def delete_middle(head):\n",
    "    if head is None or head.next is None:\n",
    "        return None\n",
    "\n",
    "    slowPtr = head\n",
    "    fastPtr = head\n",
    "    prevPtr = None\n",
    "\n",
    "    while fastPtr is not None and fastPtr.next is not None:\n",
    "        fastPtr = fastPtr.next.next\n",
    "        prevPtr = slowPtr\n",
    "        slowPtr = slowPtr.next\n",
    "\n",
    "    prevPtr.next = slowPtr.next\n",
    "\n",
    "    return head\n"
   ]
  },
  {
   "cell_type": "code",
   "execution_count": 3,
   "metadata": {},
   "outputs": [
    {
     "name": "stdout",
     "output_type": "stream",
     "text": [
      "1 2 4 5 "
     ]
    }
   ],
   "source": [
    "# Create the linked list: 1->2->3->4->5\n",
    "head = Node(1)\n",
    "head.next = Node(2)\n",
    "head.next.next = Node(3)\n",
    "head.next.next.next = Node(4)\n",
    "head.next.next.next.next = Node(5)\n",
    "\n",
    "# Delete the middle node(s)\n",
    "new_head = delete_middle(head)\n",
    "\n",
    "# Print the modified linked list\n",
    "current = new_head\n",
    "while current is not None:\n",
    "    print(current.data, end=\" \")\n",
    "    current = current.next\n",
    "\n",
    "# Output: 1 2 4 5\n"
   ]
  },
  {
   "cell_type": "markdown",
   "metadata": {},
   "source": [
    "\n",
    "💡 **Question 2**\n",
    "\n",
    "Given a linked list of **N** nodes. The task is to check if the linked list has a loop. Linked list can contain self loop.\n",
    "\n",
    "**Example 1:**\n",
    "\n",
    "```\n",
    "Input:\n",
    "N = 3\n",
    "value[] = {1,3,4}\n",
    "x(position at which tail is connected) = 2\n",
    "Output:True\n",
    "Explanation:In above test case N = 3.\n",
    "The linked list with nodes N = 3 is\n",
    "given. Then value of x=2 is given which\n",
    "means last node is connected with xth\n",
    "node of linked list. Therefore, there\n",
    "exists a loop.\n",
    "```\n",
    "\n",
    "**Example 2:**\n",
    "\n",
    "</aside>"
   ]
  },
  {
   "cell_type": "code",
   "execution_count": 4,
   "metadata": {},
   "outputs": [],
   "source": [
    "class Node:\n",
    "    def __init__(self, data):\n",
    "        self.data = data\n",
    "        self.next = None\n",
    "\n",
    "def has_loop(head):\n",
    "    if head is None or head.next is None:\n",
    "        return False\n",
    "\n",
    "    slowPtr = head\n",
    "    fastPtr = head\n",
    "\n",
    "    while fastPtr is not None and fastPtr.next is not None:\n",
    "        slowPtr = slowPtr.next\n",
    "        fastPtr = fastPtr.next.next\n",
    "\n",
    "        if slowPtr == fastPtr:\n",
    "            return True\n",
    "\n",
    "    return False\n"
   ]
  },
  {
   "cell_type": "code",
   "execution_count": 5,
   "metadata": {},
   "outputs": [
    {
     "name": "stdout",
     "output_type": "stream",
     "text": [
      "The linked list has a loop\n"
     ]
    }
   ],
   "source": [
    "# Create the linked list with a loop: 1->2->3->4->5->2 (loop)\n",
    "head = Node(1)\n",
    "head.next = Node(2)\n",
    "head.next.next = Node(3)\n",
    "head.next.next.next = Node(4)\n",
    "head.next.next.next.next = Node(5)\n",
    "head.next.next.next.next.next = head.next  # Creating a loop\n",
    "\n",
    "# Check if the linked list has a loop\n",
    "hasLoop = has_loop(head)\n",
    "\n",
    "# Print the result\n",
    "if hasLoop:\n",
    "    print(\"The linked list has a loop\")\n",
    "else:\n",
    "    print(\"The linked list does not have a loop\")\n",
    "\n",
    "# Output: The linked list has a loop\n"
   ]
  },
  {
   "cell_type": "markdown",
   "metadata": {},
   "source": [
    "\n",
    "💡 **Question 3**\n",
    "\n",
    "Given a linked list consisting of **L** nodes and given a number **N**. The task is to find the **N**th node from the end of the linked list.\n",
    "\n",
    "**Example 1:**\n",
    "\n",
    "```\n",
    "Input:\n",
    "N = 2\n",
    "LinkedList: 1->2->3->4->5->6->7->8->9\n",
    "Output:8\n",
    "Explanation:In the first example, there\n",
    "are 9 nodes in linked list and we need\n",
    "to find 2nd node from end. 2nd node\n",
    "from end is 8.\n",
    "\n",
    "```\n",
    "\n",
    "**Example 2:**\n",
    "\n",
    "</aside>"
   ]
  },
  {
   "cell_type": "code",
   "execution_count": 6,
   "metadata": {},
   "outputs": [],
   "source": [
    "class Node:\n",
    "    def __init__(self, data):\n",
    "        self.data = data\n",
    "        self.next = None\n",
    "\n",
    "def find_nth_from_end(head, N):\n",
    "    if head is None:\n",
    "        return -1\n",
    "\n",
    "    firstPtr = head\n",
    "    secondPtr = head\n",
    "\n",
    "    # Move firstPtr N nodes ahead\n",
    "    for _ in range(N):\n",
    "        if firstPtr is None:\n",
    "            return -1\n",
    "        firstPtr = firstPtr.next\n",
    "\n",
    "    # Move both pointers until firstPtr reaches the end\n",
    "    while firstPtr is not None:\n",
    "        firstPtr = firstPtr.next\n",
    "        secondPtr = secondPtr.next\n",
    "\n",
    "    return secondPtr.data\n"
   ]
  },
  {
   "cell_type": "code",
   "execution_count": 7,
   "metadata": {},
   "outputs": [
    {
     "name": "stdout",
     "output_type": "stream",
     "text": [
      "8\n"
     ]
    }
   ],
   "source": [
    "# Create the linked list: 1->2->3->4->5->6->7->8->9\n",
    "head = Node(1)\n",
    "head.next = Node(2)\n",
    "head.next.next = Node(3)\n",
    "head.next.next.next = Node(4)\n",
    "head.next.next.next.next = Node(5)\n",
    "head.next.next.next.next.next = Node(6)\n",
    "head.next.next.next.next.next.next = Node(7)\n",
    "head.next.next.next.next.next.next.next = Node(8)\n",
    "head.next.next.next.next.next.next.next.next = Node(9)\n",
    "\n",
    "# Find the 2nd node from the end\n",
    "N = 2\n",
    "result = find_nth_from_end(head, N)\n",
    "\n",
    "# Print the result\n",
    "print(result)  # Output: 8\n"
   ]
  },
  {
   "cell_type": "markdown",
   "metadata": {},
   "source": [
    "\n",
    "💡 **Question 4**\n",
    "\n",
    "Given a singly linked list of characters, write a function that returns true if the given list is a palindrome, else false.\n",
    "\n",
    "!https://media.geeksforgeeks.org/wp-content/uploads/20220816144425/LLdrawio.png\n",
    "\n",
    "**Examples:**\n",
    "\n",
    "> Input: R->A->D->A->R->NULL\n",
    "> \n",
    "> \n",
    "> **Output:** Yes\n",
    "> \n",
    "> **Input:** C->O->D->E->NULL\n",
    "> \n",
    "> **Output:** No\n",
    "> \n",
    "</aside>"
   ]
  },
  {
   "cell_type": "code",
   "execution_count": 8,
   "metadata": {},
   "outputs": [],
   "source": [
    "class Node:\n",
    "    def __init__(self, data):\n",
    "        self.data = data\n",
    "        self.next = None\n",
    "\n",
    "def is_palindrome(head):\n",
    "    if head is None or head.next is None:\n",
    "        return True\n",
    "\n",
    "    slowPtr = head\n",
    "    fastPtr = head\n",
    "\n",
    "    # Find the middle node\n",
    "    while fastPtr.next is not None and fastPtr.next.next is not None:\n",
    "        slowPtr = slowPtr.next\n",
    "        fastPtr = fastPtr.next.next\n",
    "\n",
    "    # Reverse the second half of the linked list\n",
    "    secondHalf = reverse_linked_list(slowPtr.next)\n",
    "\n",
    "    # Compare the first half with the reversed second half\n",
    "    firstHalf = head\n",
    "    while secondHalf is not None:\n",
    "        if firstHalf.data != secondHalf.data:\n",
    "            return False\n",
    "        firstHalf = firstHalf.next\n",
    "        secondHalf = secondHalf.next\n",
    "\n",
    "    return True\n",
    "\n",
    "def reverse_linked_list(head):\n",
    "    prev = None\n",
    "    current = head\n",
    "\n",
    "    while current is not None:\n",
    "        nextNode = current.next\n",
    "        current.next = prev\n",
    "        prev = current\n",
    "        current = nextNode\n",
    "\n",
    "    return prev\n"
   ]
  },
  {
   "cell_type": "code",
   "execution_count": 9,
   "metadata": {},
   "outputs": [
    {
     "name": "stdout",
     "output_type": "stream",
     "text": [
      "Yes, the linked list is a palindrome\n"
     ]
    }
   ],
   "source": [
    "# Create the linked list: R->A->D->A->R->NULL\n",
    "head = Node('R')\n",
    "head.next = Node('A')\n",
    "head.next.next = Node('D')\n",
    "head.next.next.next = Node('A')\n",
    "head.next.next.next.next = Node('R')\n",
    "\n",
    "# Check if the linked list is a palindrome\n",
    "isPalindrome = is_palindrome(head)\n",
    "\n",
    "# Print the result\n",
    "if isPalindrome:\n",
    "    print(\"Yes, the linked list is a palindrome\")\n",
    "else:\n",
    "    print(\"No, the linked list is not a palindrome\")\n",
    "\n",
    "# Output: Yes, the linked list is a palindrome\n"
   ]
  },
  {
   "cell_type": "markdown",
   "metadata": {},
   "source": [
    "\n",
    "💡 **Question 5**\n",
    "\n",
    "Given a linked list of **N** nodes such that it may contain a loop.\n",
    "\n",
    "A loop here means that the last node of the link list is connected to the node at position X(1-based index). If the link list does not have any loop, X=0.\n",
    "\n",
    "Remove the loop from the linked list, if it is present, i.e. unlink the last node which is forming the loop.\n",
    "\n",
    "**Example 1:**\n",
    "\n",
    "```\n",
    "Input:\n",
    "N = 3\n",
    "value[] = {1,3,4}\n",
    "X = 2\n",
    "Output:1\n",
    "Explanation:The link list looks like\n",
    "1 -> 3 -> 4\n",
    "     ^    |\n",
    "     |____|\n",
    "A loop is present. If you remove it\n",
    "successfully, the answer will be 1.\n",
    "\n",
    "```\n",
    "\n",
    "**Example 2:**\n",
    "\n",
    "</aside>"
   ]
  },
  {
   "cell_type": "code",
   "execution_count": 10,
   "metadata": {},
   "outputs": [],
   "source": [
    "class Node:\n",
    "    def __init__(self, data):\n",
    "        self.data = data\n",
    "        self.next = None\n",
    "\n",
    "def detect_and_remove_loop(head):\n",
    "    if head is None or head.next is None:\n",
    "        return head\n",
    "\n",
    "    slowPtr = head\n",
    "    fastPtr = head\n",
    "\n",
    "    # Detect the loop\n",
    "    while fastPtr is not None and fastPtr.next is not None:\n",
    "        slowPtr = slowPtr.next\n",
    "        fastPtr = fastPtr.next.next\n",
    "\n",
    "        if slowPtr == fastPtr:\n",
    "            break\n",
    "\n",
    "    # If there is no loop\n",
    "    if slowPtr != fastPtr:\n",
    "        return head\n",
    "\n",
    "    # Move slowPtr to the head and keep fastPtr at the meeting point\n",
    "    slowPtr = head\n",
    "    while slowPtr.next != fastPtr.next:\n",
    "        slowPtr = slowPtr.next\n",
    "        fastPtr = fastPtr.next\n",
    "\n",
    "    # Remove the loop\n",
    "    fastPtr.next = None\n",
    "\n",
    "    return head\n"
   ]
  },
  {
   "cell_type": "code",
   "execution_count": 11,
   "metadata": {},
   "outputs": [
    {
     "name": "stdout",
     "output_type": "stream",
     "text": [
      "1 3 4 "
     ]
    }
   ],
   "source": [
    "# Create the linked list: 1 -> 3 -> 4 -> 3 (loop)\n",
    "head = Node(1)\n",
    "head.next = Node(3)\n",
    "head.next.next = Node(4)\n",
    "head.next.next.next = head.next  # Creating a loop\n",
    "\n",
    "# Remove the loop from the linked list\n",
    "new_head = detect_and_remove_loop(head)\n",
    "\n",
    "# Print the modified linked list\n",
    "current = new_head\n",
    "while current is not None:\n",
    "    print(current.data, end=\" \")\n",
    "    current = current.next\n",
    "\n",
    "# Output: 1 3 4\n"
   ]
  },
  {
   "cell_type": "markdown",
   "metadata": {},
   "source": [
    "\n",
    "💡 **Question 6**\n",
    "\n",
    "Given a linked list and two integers M and N. Traverse the linked list such that you retain M nodes then delete next N nodes, continue the same till end of the linked list.\n",
    "\n",
    "Difficulty Level: Rookie\n",
    "\n",
    "**Examples**:\n",
    "\n",
    "</aside>"
   ]
  },
  {
   "cell_type": "code",
   "execution_count": 14,
   "metadata": {},
   "outputs": [],
   "source": [
    "class Node:\n",
    "    def __init__(self, data):\n",
    "        self.data = data\n",
    "        self.next = None\n",
    "\n",
    "def retain_delete(head, M, N):\n",
    "    if M <= 0 or N <= 0:\n",
    "        return head\n",
    "\n",
    "    current = head\n",
    "\n",
    "    while current is not None:\n",
    "        # Traverse M nodes\n",
    "        for _ in range(M - 1):\n",
    "            if current is None:\n",
    "                return head\n",
    "            current = current.next\n",
    "\n",
    "        if current is None:\n",
    "            return head\n",
    "\n",
    "        # Delete N nodes\n",
    "        next_group_start = current.next\n",
    "        for _ in range(N):\n",
    "            if current.next is None:\n",
    "                break\n",
    "            current.next = current.next.next\n",
    "\n",
    "        current = next_group_start\n",
    "\n",
    "    return head\n"
   ]
  },
  {
   "cell_type": "code",
   "execution_count": 15,
   "metadata": {},
   "outputs": [
    {
     "name": "stdout",
     "output_type": "stream",
     "text": [
      "1 2 6 "
     ]
    }
   ],
   "source": [
    "# Create the linked list: 1 -> 2 -> 3 -> 4 -> 5 -> 6 -> 7 -> 8 -> 9\n",
    "head = Node(1)\n",
    "head.next = Node(2)\n",
    "head.next.next = Node(3)\n",
    "head.next.next.next = Node(4)\n",
    "head.next.next.next.next = Node(5)\n",
    "head.next.next.next.next.next = Node(6)\n",
    "head.next.next.next.next.next.next = Node(7)\n",
    "head.next.next.next.next.next.next.next = Node(8)\n",
    "head.next.next.next.next.next.next.next.next = Node(9)\n",
    "\n",
    "# Retain 2 nodes and delete the next 3 nodes\n",
    "M = 2\n",
    "N = 3\n",
    "new_head = retain_delete(head, M, N)\n",
    "\n",
    "# Print the modified linked list\n",
    "current = new_head\n",
    "while current is not None:\n",
    "    print(current.data, end=\" \")\n",
    "    current = current.next\n",
    "\n",
    "# Output: 1 2 6 7\n"
   ]
  },
  {
   "cell_type": "markdown",
   "metadata": {},
   "source": [
    "\n",
    "💡 **Question 7**\n",
    "\n",
    "Given two linked lists, insert nodes of second list into first list at alternate positions of first list.\n",
    "For example, if first list is 5->7->17->13->11 and second is 12->10->2->4->6, the first list should become 5->12->7->10->17->2->13->4->11->6 and second list should become empty. The nodes of second list should only be inserted when there are positions available. For example, if the first list is 1->2->3 and second list is 4->5->6->7->8, then first list should become 1->4->2->5->3->6 and second list to 7->8.\n",
    "\n",
    "Use of extra space is not allowed (Not allowed to create additional nodes), i.e., insertion must be done in-place. Expected time complexity is O(n) where n is number of nodes in first list.\n",
    "\n",
    "</aside>"
   ]
  },
  {
   "cell_type": "code",
   "execution_count": 16,
   "metadata": {},
   "outputs": [],
   "source": [
    "class Node:\n",
    "    def __init__(self, data):\n",
    "        self.data = data\n",
    "        self.next = None\n",
    "\n",
    "def insert_alternate_positions(first_head, second_head):\n",
    "    if first_head is None:\n",
    "        return second_head\n",
    "\n",
    "    firstPtr = first_head\n",
    "    secondPtr = second_head\n",
    "\n",
    "    while firstPtr is not None and secondPtr is not None:\n",
    "        firstNext = firstPtr.next\n",
    "        secondNext = secondPtr.next\n",
    "\n",
    "        firstPtr.next = secondPtr\n",
    "        secondPtr.next = firstNext\n",
    "\n",
    "        firstPtr = firstNext\n",
    "        secondPtr = secondNext\n",
    "\n",
    "    if secondPtr is not None:\n",
    "        firstPtr.next = secondPtr\n",
    "\n",
    "    return first_head\n"
   ]
  },
  {
   "cell_type": "code",
   "execution_count": 17,
   "metadata": {},
   "outputs": [
    {
     "name": "stdout",
     "output_type": "stream",
     "text": [
      "5 12 7 10 17 2 13 4 11 6 12 7 10 17 2 13 4 11 6 "
     ]
    }
   ],
   "source": [
    "# Create the first linked list: 5 -> 7 -> 17 -> 13 -> 11\n",
    "first_head = Node(5)\n",
    "first_head.next = Node(7)\n",
    "first_head.next.next = Node(17)\n",
    "first_head.next.next.next = Node(13)\n",
    "first_head.next.next.next.next = Node(11)\n",
    "\n",
    "# Create the second linked list: 12 -> 10 -> 2 -> 4 -> 6\n",
    "second_head = Node(12)\n",
    "second_head.next = Node(10)\n",
    "second_head.next.next = Node(2)\n",
    "second_head.next.next.next = Node(4)\n",
    "second_head.next.next.next.next = Node(6)\n",
    "\n",
    "# Insert nodes of the second list into the first list at alternate positions\n",
    "new_first_head = insert_alternate_positions(first_head, second_head)\n",
    "\n",
    "# Print the modified first list\n",
    "current = new_first_head\n",
    "while current is not None:\n",
    "    print(current.data, end=\" \")\n",
    "    current = current.next\n",
    "\n",
    "# Output: 5 12 7 10 17 2 13 4 11 6\n",
    "\n",
    "# Print the modified second list (empty)\n",
    "current = second_head\n",
    "while current is not None:\n",
    "    print(current.data, end=\" \")\n",
    "    current = current.next\n",
    "\n",
    "# Output:\n"
   ]
  },
  {
   "cell_type": "markdown",
   "metadata": {},
   "source": [
    "\n",
    "💡 **Question 8**\n",
    "\n",
    "Given a singly linked list, find if the linked list is [circular](https://www.geeksforgeeks.org/circular-linked-list/amp/) or not.\n",
    "\n",
    "> A linked list is called circular if it is not NULL-terminated and all nodes are connected in the form of a cycle. Below is an example of a circular linked list.\n",
    "> \n",
    "</aside>"
   ]
  },
  {
   "cell_type": "code",
   "execution_count": 18,
   "metadata": {},
   "outputs": [],
   "source": [
    "class Node:\n",
    "    def __init__(self, data):\n",
    "        self.data = data\n",
    "        self.next = None\n",
    "\n",
    "def is_circular_linked_list(head):\n",
    "    if head is None:\n",
    "        return False\n",
    "\n",
    "    slow = head\n",
    "    fast = head.next\n",
    "\n",
    "    while fast is not None and fast.next is not None:\n",
    "        if slow == fast:\n",
    "            return True\n",
    "\n",
    "        slow = slow.next\n",
    "        fast = fast.next.next\n",
    "\n",
    "    return False\n"
   ]
  },
  {
   "cell_type": "code",
   "execution_count": 19,
   "metadata": {},
   "outputs": [
    {
     "name": "stdout",
     "output_type": "stream",
     "text": [
      "True\n",
      "False\n"
     ]
    }
   ],
   "source": [
    "# Create a circular linked list: 1 -> 2 -> 3 -> 4 -> 5 -> 2 (pointing back to the second node)\n",
    "head = Node(1)\n",
    "head.next = Node(2)\n",
    "head.next.next = Node(3)\n",
    "head.next.next.next = Node(4)\n",
    "head.next.next.next.next = Node(5)\n",
    "head.next.next.next.next.next = head.next\n",
    "\n",
    "# Check if the linked list is circular\n",
    "is_circular = is_circular_linked_list(head)\n",
    "print(is_circular)  # Output: True\n",
    "\n",
    "# Create a non-circular linked list: 1 -> 2 -> 3 -> 4 -> 5 -> None\n",
    "head = Node(1)\n",
    "head.next = Node(2)\n",
    "head.next.next = Node(3)\n",
    "head.next.next.next = Node(4)\n",
    "head.next.next.next.next = Node(5)\n",
    "\n",
    "# Check if the linked list is circular\n",
    "is_circular = is_circular_linked_list(head)\n",
    "print(is_circular)  # Output: False\n"
   ]
  }
 ],
 "metadata": {
  "kernelspec": {
   "display_name": "Python 3.8.10 64-bit",
   "language": "python",
   "name": "python3"
  },
  "language_info": {
   "codemirror_mode": {
    "name": "ipython",
    "version": 3
   },
   "file_extension": ".py",
   "mimetype": "text/x-python",
   "name": "python",
   "nbconvert_exporter": "python",
   "pygments_lexer": "ipython3",
   "version": "3.8.10"
  },
  "orig_nbformat": 4,
  "vscode": {
   "interpreter": {
    "hash": "e7370f93d1d0cde622a1f8e1c04877d8463912d04d973331ad4851f04de6915a"
   }
  }
 },
 "nbformat": 4,
 "nbformat_minor": 2
}
