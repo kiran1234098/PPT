{
  "nbformat": 4,
  "nbformat_minor": 0,
  "metadata": {
    "colab": {
      "provenance": []
    },
    "kernelspec": {
      "name": "python3",
      "display_name": "Python 3"
    },
    "language_info": {
      "name": "python"
    }
  },
  "cells": [
    {
      "cell_type": "markdown",
      "source": [
        "Question 1: Given a linked list of **N** nodes such that it may contain a loop.\n",
        "\n",
        "A loop here means that the last node of the link list is connected to the node at position X(1-based index). If the link list does not have any loop, X=0.\n",
        "\n",
        "Remove the loop from the linked list, if it is present, i.e. unlink the last node which is forming the loop."
      ],
      "metadata": {
        "id": "a08IAbMTloTH"
      }
    },
    {
      "cell_type": "code",
      "source": [
        "# Node class to represent each node in the linked list\n",
        "class Node:\n",
        "    def __init__(self, data):\n",
        "        self.data = data\n",
        "        self.next = None\n",
        "\n",
        "# Function to remove a loop from a linked list\n",
        "def remove_loop(head):\n",
        "    if head is None or head.next is None:\n",
        "        return\n",
        "\n",
        "    # Step 1: Detect the loop using Floyd's Cycle Detection Algorithm\n",
        "    slow = head\n",
        "    fast = head\n",
        "\n",
        "    while fast is not None and fast.next is not None:\n",
        "        slow = slow.next\n",
        "        fast = fast.next.next\n",
        "\n",
        "        # Loop detected\n",
        "        if slow == fast:\n",
        "            break\n",
        "\n",
        "    # If no loop is detected, return\n",
        "    if slow != fast:\n",
        "        return\n",
        "\n",
        "    # Step 2: Find the position of the loop's start node\n",
        "    slow = head\n",
        "    while slow.next != fast.next:\n",
        "        slow = slow.next\n",
        "        fast = fast.next\n",
        "\n",
        "    # Step 3: Unlink the last node to remove the loop\n",
        "    fast.next = None\n",
        "\n",
        "# Function to print the elements of a linked list\n",
        "def print_linked_list(head):\n",
        "    current = head\n",
        "    while current is not None:\n",
        "        print(current.data, end=\" \")\n",
        "        current = current.next\n",
        "    print()\n",
        "\n",
        "# Example usage\n",
        "# Create the linked list: 1 -> 2 -> 3 -> 4 -> 5 -> 6\n",
        "head = Node(1)\n",
        "head.next = Node(2)\n",
        "head.next.next = Node(3)\n",
        "head.next.next.next = Node(4)\n",
        "head.next.next.next.next = Node(5)\n",
        "head.next.next.next.next.next = Node(6)\n",
        "\n",
        "# Create a loop by connecting the last node to the node at position 3 (4)\n",
        "head.next.next.next.next.next.next = head.next.next.next\n",
        "\n",
        "# Remove the loop from the linked list\n",
        "remove_loop(head)\n",
        "\n",
        "# Print the updated linked list\n",
        "print_linked_list(head)\n"
      ],
      "metadata": {
        "colab": {
          "base_uri": "https://localhost:8080/"
        },
        "id": "m9_j9Uq1l4V4",
        "outputId": "6ea59faa-950b-450e-f3f9-d5764886c8ca"
      },
      "execution_count": 10,
      "outputs": [
        {
          "output_type": "stream",
          "name": "stdout",
          "text": [
            "1 2 3 4 5 6 \n"
          ]
        }
      ]
    },
    {
      "cell_type": "markdown",
      "source": [
        "Question 2: <aside>\n",
        "\n",
        "\n",
        "A number **N** is represented in Linked List such that each digit corresponds to a node in linked list. You need to add 1 to it.\n",
        "\n",
        "</aside>"
      ],
      "metadata": {
        "id": "GX8UPmXSoiy9"
      }
    },
    {
      "cell_type": "code",
      "source": [
        "# Node class to represent each digit in the linked list\n",
        "class Node:\n",
        "    def __init__(self, data):\n",
        "        self.data = data\n",
        "        self.next = None\n",
        "\n",
        "# Function to reverse a linked list\n",
        "def reverse_linked_list(head):\n",
        "    prev = None\n",
        "    current = head\n",
        "    while current is not None:\n",
        "        next_node = current.next\n",
        "        current.next = prev\n",
        "        prev = current\n",
        "        current = next_node\n",
        "    return prev\n",
        "\n",
        "# Function to add 1 to a linked list representation of a number\n",
        "def add_one(head):\n",
        "    if head is None:\n",
        "        return None\n",
        "\n",
        "    # Step 1: Reverse the linked list\n",
        "    head = reverse_linked_list(head)\n",
        "\n",
        "    # Step 2: Traverse the reversed linked list and add 1\n",
        "    current = head\n",
        "    carry = 1\n",
        "    while current is not None:\n",
        "        total = current.data + carry\n",
        "        current.data = total % 10\n",
        "        carry = total // 10\n",
        "        if carry == 0:\n",
        "            break\n",
        "        current = current.next\n",
        "\n",
        "    # Step 3: Reverse the linked list again\n",
        "    head = reverse_linked_list(head)\n",
        "\n",
        "    # Step 4: If there is still a carry, create a new node for it\n",
        "    if carry > 0:\n",
        "        new_node = Node(carry)\n",
        "        new_node.next = head\n",
        "        head = new_node\n",
        "\n",
        "    return head\n",
        "\n",
        "# Function to print the elements of a linked list\n",
        "def print_linked_list(head):\n",
        "    current = head\n",
        "    while current is not None:\n",
        "        print(current.data, end=\" \")\n",
        "        current = current.next\n",
        "    print()\n",
        "\n",
        "# Example usage\n",
        "# Create the linked list: 9 -> 9 -> 9\n",
        "head = Node(9)\n",
        "head.next = Node(9)\n",
        "head.next.next = Node(9)\n",
        "\n",
        "# Add 1 to the linked list\n",
        "new_list = add_one(head)\n",
        "\n",
        "# Print the updated linked list\n",
        "print_linked_list(new_list)\n"
      ],
      "metadata": {
        "colab": {
          "base_uri": "https://localhost:8080/"
        },
        "id": "Ul8OrLnqousJ",
        "outputId": "8fd27612-1855-4da3-cca6-6ce2f9ba7b33"
      },
      "execution_count": 11,
      "outputs": [
        {
          "output_type": "stream",
          "name": "stdout",
          "text": [
            "1 0 0 0 \n"
          ]
        }
      ]
    },
    {
      "cell_type": "markdown",
      "source": [
        "Question 3: <aside>\n",
        "\n",
        "\n",
        "Given a Linked List of size N, where every node represents a sub-linked-list and contains two pointers:(i) a **next** pointer to the next node,(ii) a **bottom** pointer to a linked list where this node is head.Each of the sub-linked-list is in sorted order.Flatten the Link List such that all the nodes appear in a single level while maintaining the sorted order. **Note:** The flattened list will be printed using the bottom pointer instead of next pointer.\n",
        "\n",
        "</aside>"
      ],
      "metadata": {
        "id": "NqoZC4BXo6ep"
      }
    },
    {
      "cell_type": "code",
      "source": [
        "# Node class to represent each node in the linked list\n",
        "class Node:\n",
        "    def __init__(self, data):\n",
        "        self.data = data\n",
        "        self.next = None\n",
        "        self.bottom = None\n",
        "\n",
        "# Function to merge two sorted linked lists\n",
        "def merge_lists(a, b):\n",
        "    # If one of the lists is empty, return the other list\n",
        "    if a is None:\n",
        "        return b\n",
        "    if b is None:\n",
        "        return a\n",
        "\n",
        "    # Choose the smaller value as the new head\n",
        "    if a.data <= b.data:\n",
        "        result = a\n",
        "        result.bottom = merge_lists(a.bottom, b)\n",
        "    else:\n",
        "        result = b\n",
        "        result.bottom = merge_lists(a, b.bottom)\n",
        "\n",
        "    return result\n",
        "\n",
        "# Function to flatten a linked list\n",
        "def flatten(head):\n",
        "    # Base case: if the head or the head's next is None, return the head\n",
        "    if head is None or head.next is None:\n",
        "        return head\n",
        "\n",
        "    # Recursively flatten the rest of the list\n",
        "    head.next = flatten(head.next)\n",
        "\n",
        "    # Merge the current list with the flattened rest of the list\n",
        "    head = merge_lists(head, head.next)\n",
        "\n",
        "    return head\n",
        "\n",
        "# Function to print the flattened linked list\n",
        "def print_flattened_list(head):\n",
        "    current = head\n",
        "    while current is not None:\n",
        "        print(current.data, end=\" \")\n",
        "        current = current.bottom\n",
        "    print()\n",
        "\n",
        "head = Node(5)\n",
        "head.next = Node(7)\n",
        "head.next.next = Node(8)\n",
        "head.next.next.next = Node(30)\n",
        "\n",
        "head.bottom = Node(10)\n",
        "head.bottom.bottom = Node(20)\n",
        "head.bottom.bottom.bottom = Node(28)\n",
        "\n",
        "head.next.bottom = Node(20)\n",
        "\n",
        "head.next.next.bottom = Node(19)\n",
        "head.next.next.bottom.bottom = Node(22)\n",
        "\n",
        "# Flatten the linked list\n",
        "flattened_list = flatten(head)\n",
        "\n",
        "# Print the flattened linked list\n",
        "print_flattened_list(flattened_list)\n"
      ],
      "metadata": {
        "colab": {
          "base_uri": "https://localhost:8080/"
        },
        "id": "Uo_ujIORpCIZ",
        "outputId": "b6712ce2-9378-45ac-dfab-5f09b9b1b437"
      },
      "execution_count": 12,
      "outputs": [
        {
          "output_type": "stream",
          "name": "stdout",
          "text": [
            "5 7 8 10 19 20 20 22 28 30 \n"
          ]
        }
      ]
    },
    {
      "cell_type": "markdown",
      "source": [
        "Question 4: You are given a special linked list with **N** nodes where each node has a next pointer pointing to its next node. You are also given **M** random pointers, where you will be given **M** number of pairs denoting two nodes **a** and **b**  **i.e. a->arb = b** (arb is pointer to random node)**.**\n",
        "\n",
        "Construct a copy of the given list. The copy should consist of exactly **N** new nodes, where each new node has its value set to the value of its corresponding original node. Both the next and random pointer of the new nodes should point to new nodes in the copied list such that the pointers in the original list and copied list represent the same list state. None of the pointers in the new list should point to nodes in the original list.\n",
        "\n",
        "For example, if there are two nodes **X** and **Y** in the original list, where **X.arb** **-->** **Y**, then for the corresponding two nodes **x** and **y** in the copied list, **x.arb --> y.**\n",
        "\n",
        "Return the head of the copied linked list."
      ],
      "metadata": {
        "id": "51YlP7QTpeyA"
      }
    },
    {
      "cell_type": "code",
      "source": [
        "# Node class to represent each node in the linked list\n",
        "class Node:\n",
        "    def __init__(self, data):\n",
        "        self.data = data\n",
        "        self.next = None\n",
        "        self.random = None\n",
        "\n",
        "# Function to construct a copy of the given special linked list\n",
        "def copy_special_linked_list(head):\n",
        "    if head is None:\n",
        "        return None\n",
        "\n",
        "    # Step 1: Create a copy of each node and insert it between the original node and its next node\n",
        "    current = head\n",
        "    while current is not None:\n",
        "        new_node = Node(current.data)\n",
        "        new_node.next = current.next\n",
        "        current.next = new_node\n",
        "        current = new_node.next\n",
        "\n",
        "    # Step 2: Assign the random pointers of the copied nodes\n",
        "    current = head\n",
        "    while current is not None:\n",
        "        if current.random is not None:\n",
        "            current.next.random = current.random.next\n",
        "        current = current.next.next\n",
        "\n",
        "    # Step 3: Separate the original list and the copied list\n",
        "    current = head\n",
        "    copied_head = head.next\n",
        "    copied_current = copied_head\n",
        "    while current is not None:\n",
        "        current.next = current.next.next\n",
        "        if copied_current.next is not None:\n",
        "            copied_current.next = copied_current.next.next\n",
        "        current = current.next\n",
        "        copied_current = copied_current.next\n",
        "\n",
        "    # Step 4: Return the head of the copied list\n",
        "    return copied_head\n",
        "\n",
        "# Function to print the elements of the linked list\n",
        "def print_linked_list(head):\n",
        "    current = head\n",
        "    while current is not None:\n",
        "        random_data = None\n",
        "        if current.random is not None:\n",
        "            random_data = current.random.data\n",
        "        print(\"Data:\", current.data, \"Random Data:\", random_data)\n",
        "        current = current.next\n",
        "\n",
        "# Example usage\n",
        "# Create the linked list: 1 -> 2 -> 3 -> 4 -> 5\n",
        "head = Node(1)\n",
        "head.next = Node(2)\n",
        "head.next.next = Node(3)\n",
        "head.next.next.next = Node(4)\n",
        "head.next.next.next.next = Node(5)\n",
        "\n",
        "# Set the random pointers\n",
        "head.random = head.next.next\n",
        "head.next.random = head.next.next.next\n",
        "head.next.next.random = head.next.next.next.next\n",
        "head.next.next.next.random = head.next\n",
        "head.next.next.next.next.random = head\n",
        "\n",
        "# Construct a copy of the special linked list\n",
        "copied_list = copy_special_linked_list(head)\n",
        "\n",
        "# Print the copied list\n",
        "print_linked_list(copied_list)\n"
      ],
      "metadata": {
        "colab": {
          "base_uri": "https://localhost:8080/"
        },
        "id": "E07PsMxjpl21",
        "outputId": "af58a20a-452a-4f1a-a13b-bb30276346b5"
      },
      "execution_count": 13,
      "outputs": [
        {
          "output_type": "stream",
          "name": "stdout",
          "text": [
            "Data: 1 Random Data: 3\n",
            "Data: 2 Random Data: 4\n",
            "Data: 3 Random Data: 5\n",
            "Data: 4 Random Data: 2\n",
            "Data: 5 Random Data: 1\n"
          ]
        }
      ]
    },
    {
      "cell_type": "markdown",
      "source": [
        "Question 5 : Given the `head` of a singly linked list, group all the nodes with odd indices together followed by the nodes with even indices, and return *the reordered list*.\n",
        "\n",
        "The **first** node is considered **odd**, and the **second** node is **even**, and so on.\n",
        "\n",
        "Note that the relative order inside both the even and odd groups should remain as it was in the input.\n",
        "\n",
        "You must solve the problem in `O(1)` extra space complexity and `O(n)` time complexity."
      ],
      "metadata": {
        "id": "ypCzAqn-pxU5"
      }
    },
    {
      "cell_type": "code",
      "source": [
        "# Node class to represent each node in the linked list\n",
        "class ListNode:\n",
        "    def __init__(self, val=0, next=None):\n",
        "        self.val = val\n",
        "        self.next = next\n",
        "\n",
        "def oddEvenList(head):\n",
        "    # If the list is empty or has only one node, return the head\n",
        "    if head is None or head.next is None:\n",
        "        return head\n",
        "\n",
        "    # Initialize two pointers for odd and even nodes\n",
        "    odd = head\n",
        "    even = head.next\n",
        "\n",
        "    # Keep track of the first even node\n",
        "    even_head = even\n",
        "\n",
        "    # Rearrange the links between nodes\n",
        "    while even is not None and even.next is not None:\n",
        "        odd.next = even.next\n",
        "        odd = odd.next\n",
        "        even.next = odd.next\n",
        "        even = even.next\n",
        "\n",
        "    # Connect the odd list with the even list\n",
        "    odd.next = even_head\n",
        "\n",
        "    return head\n",
        "\n",
        "# Function to print the elements of the linked list\n",
        "def printLinkedList(head):\n",
        "    current = head\n",
        "    while current is not None:\n",
        "        print(current.val, end=\" \")\n",
        "        current = current.next\n",
        "    print()\n",
        "\n",
        "# Example usage\n",
        "# Create the linked list: 1 -> 2 -> 3 -> 4 -> 5\n",
        "head = ListNode(1)\n",
        "head.next = ListNode(2)\n",
        "head.next.next = ListNode(3)\n",
        "head.next.next.next = ListNode(4)\n",
        "head.next.next.next.next = ListNode(5)\n",
        "\n",
        "# Reorder the list\n",
        "reordered_list = oddEvenList(head)\n",
        "\n",
        "# Print the reordered list\n",
        "printLinkedList(reordered_list)\n"
      ],
      "metadata": {
        "colab": {
          "base_uri": "https://localhost:8080/"
        },
        "id": "9bSR8qg6p4SI",
        "outputId": "1645a777-d9e8-4aa3-94e2-b6c4e18711e9"
      },
      "execution_count": 14,
      "outputs": [
        {
          "output_type": "stream",
          "name": "stdout",
          "text": [
            "1 3 5 2 4 \n"
          ]
        }
      ]
    },
    {
      "cell_type": "markdown",
      "source": [
        "Question 6 : Given a singly linked list of size N. The task is to left-shift the linked list by k nodes, where k is a given positive integer smaller than or equal to length of the linked list."
      ],
      "metadata": {
        "id": "6SL3JlABqEKX"
      }
    },
    {
      "cell_type": "code",
      "source": [
        "# Node class to represent each node in the linked list\n",
        "class ListNode:\n",
        "    def __init__(self, val=0, next=None):\n",
        "        self.val = val\n",
        "        self.next = next\n",
        "\n",
        "def leftShiftLinkedList(head, k):\n",
        "    if head is None or head.next is None:\n",
        "        return head\n",
        "\n",
        "    # Find the length of the list\n",
        "    length = 0\n",
        "    current = head\n",
        "    while current:\n",
        "        length += 1\n",
        "        current = current.next\n",
        "\n",
        "    # Determine the effective number of shifts\n",
        "    k = k % length\n",
        "\n",
        "    # If k is 0, no need to shift the list\n",
        "    if k == 0:\n",
        "        return head\n",
        "\n",
        "    # Find the (k+1)th node from the beginning\n",
        "    count = 1\n",
        "    current = head\n",
        "    while count < k and current:\n",
        "        current = current.next\n",
        "        count += 1\n",
        "\n",
        "    # Set the new head and new tail of the shifted list\n",
        "    new_head = current.next\n",
        "    current.next = None\n",
        "\n",
        "    # Traverse to the end of the list\n",
        "    current = new_head\n",
        "    while current.next:\n",
        "        current = current.next\n",
        "\n",
        "    # Connect the end of the list to the original head\n",
        "    current.next = head\n",
        "\n",
        "    return new_head\n",
        "\n",
        "# Function to print the elements of the linked list\n",
        "def printLinkedList(head):\n",
        "    current = head\n",
        "    while current:\n",
        "        print(current.val, end=\" \")\n",
        "        current = current.next\n",
        "    print()\n",
        "\n",
        "# Example usage\n",
        "# Create the linked list: 1 -> 2 -> 3 -> 4 -> 5\n",
        "head = ListNode(1)\n",
        "head.next = ListNode(2)\n",
        "head.next.next = ListNode(3)\n",
        "head.next.next.next = ListNode(4)\n",
        "head.next.next.next.next = ListNode(5)\n",
        "\n",
        "# Left-shift the list by 2 nodes\n",
        "k = 2\n",
        "shifted_list = leftShiftLinkedList(head, k)\n",
        "\n",
        "# Print the shifted list\n",
        "printLinkedList(shifted_list)\n"
      ],
      "metadata": {
        "colab": {
          "base_uri": "https://localhost:8080/"
        },
        "id": "zc-VQQuPqKSn",
        "outputId": "5cf609a4-9ad6-46f3-f508-1697965328b4"
      },
      "execution_count": 15,
      "outputs": [
        {
          "output_type": "stream",
          "name": "stdout",
          "text": [
            "3 4 5 1 2 \n"
          ]
        }
      ]
    },
    {
      "cell_type": "markdown",
      "source": [
        "Question 7 : You are given the `head` of a linked list with `n` nodes.\n",
        "\n",
        "For each node in the list, find the value of the **next greater node**. That is, for each node, find the value of the first node that is next to it and has a **strictly larger** value than it.\n",
        "\n",
        "Return an integer array `answer` where `answer[i]` is the value of the next greater node of the `ith` node (**1-indexed**). If the `ith` node does not have a next greater node, set `answer[i] = 0`."
      ],
      "metadata": {
        "id": "EzkDGsH-qY4h"
      }
    },
    {
      "cell_type": "code",
      "source": [
        "# Node class to represent each node in the linked list\n",
        "class ListNode:\n",
        "    def __init__(self, val=0, next=None):\n",
        "        self.val = val\n",
        "        self.next = next\n",
        "\n",
        "def nextGreaterNodes(head):\n",
        "    # Convert the linked list to a list\n",
        "    values = []\n",
        "    current = head\n",
        "    while current:\n",
        "        values.append(current.val)\n",
        "        current = current.next\n",
        "\n",
        "    # Initialize the answer array with zeros\n",
        "    answer = [0] * len(values)\n",
        "\n",
        "    # Use a stack to keep track of nodes in decreasing order of values\n",
        "    stack = []\n",
        "\n",
        "    # Traverse the list from right to left\n",
        "    for i in range(len(values) - 1, -1, -1):\n",
        "        # Pop nodes from the stack that have smaller values\n",
        "        while stack and values[i] >= values[stack[-1]]:\n",
        "            stack.pop()\n",
        "\n",
        "        # If the stack is not empty, the top node is the next greater node\n",
        "        if stack:\n",
        "            answer[i] = values[stack[-1]]\n",
        "\n",
        "        # Push the current node to the stack\n",
        "        stack.append(i)\n",
        "\n",
        "    return answer\n",
        "\n",
        "# Example usage\n",
        "# Create the linked list: 2 -> 7 -> 4 -> 3 -> 5\n",
        "head = ListNode(2)\n",
        "head.next = ListNode(7)\n",
        "head.next.next = ListNode(4)\n",
        "head.next.next.next = ListNode(3)\n",
        "head.next.next.next.next = ListNode(5)\n",
        "\n",
        "# Find the next greater nodes\n",
        "answer = nextGreaterNodes(head)\n",
        "\n",
        "# Print the answer\n",
        "print(answer)\n"
      ],
      "metadata": {
        "colab": {
          "base_uri": "https://localhost:8080/"
        },
        "id": "rcxWSynAqeV1",
        "outputId": "96e1ff65-bcf0-4e28-9a3b-362806748a1c"
      },
      "execution_count": 16,
      "outputs": [
        {
          "output_type": "stream",
          "name": "stdout",
          "text": [
            "[7, 0, 5, 5, 0]\n"
          ]
        }
      ]
    },
    {
      "cell_type": "markdown",
      "source": [
        "Question 8 : Given the `head` of a linked list, we repeatedly delete consecutive sequences of nodes that sum to `0` until there are no such sequences.\n",
        "\n",
        "After doing so, return the head of the final linked list.  You may return any such answer.\n",
        "\n",
        "(Note that in the examples below, all sequences are serializations of `ListNode` objects.)"
      ],
      "metadata": {
        "id": "_i4VnkakquNu"
      }
    },
    {
      "cell_type": "code",
      "source": [
        "# Node class to represent each node in the linked list\n",
        "class ListNode:\n",
        "    def __init__(self, val=0, next=None):\n",
        "        self.val = val\n",
        "        self.next = next\n",
        "\n",
        "def removeZeroSumSublists(head):\n",
        "    # Create a dummy node to handle the case of removing the head node\n",
        "    dummy = ListNode(0)\n",
        "    dummy.next = head\n",
        "\n",
        "    # Use a dictionary to store the running sum and the node where it was encountered\n",
        "    prefix_sum = {}\n",
        "    current = dummy\n",
        "    running_sum = 0\n",
        "\n",
        "    while current:\n",
        "        running_sum += current.val\n",
        "\n",
        "        if running_sum in prefix_sum:\n",
        "            # Remove the nodes between the previous encountered node and the current node\n",
        "            prev_node = prefix_sum[running_sum].next\n",
        "            running_sum += prev_node.val\n",
        "            while prev_node != current:\n",
        "                del prefix_sum[running_sum]\n",
        "                prev_node = prev_node.next\n",
        "                running_sum += prev_node.val\n",
        "            prefix_sum[running_sum].next = current.next\n",
        "        else:\n",
        "            prefix_sum[running_sum] = current\n",
        "\n",
        "        current = current.next\n",
        "\n",
        "    return dummy.next\n",
        "\n",
        "# Function to print the elements of the linked list\n",
        "def printLinkedList(head):\n",
        "    current = head\n",
        "    while current:\n",
        "        print(current.val, end=\" \")\n",
        "        current = current.next\n",
        "    print()\n",
        "\n",
        "# Example usage\n",
        "# Create the linked list: 1 -> 2 -> -3 -> 3 -> 1\n",
        "head = ListNode(1)\n",
        "head.next = ListNode(2)\n",
        "head.next.next = ListNode(-3)\n",
        "head.next.next.next = ListNode(3)\n",
        "head.next.next.next.next = ListNode(1)\n",
        "\n",
        "# Remove consecutive sequences with a sum of 0\n",
        "new_head = removeZeroSumSublists(head)\n",
        "\n",
        "# Print the modified linked list\n",
        "printLinkedList(new_head)\n"
      ],
      "metadata": {
        "colab": {
          "base_uri": "https://localhost:8080/"
        },
        "id": "M32m-EaYq8AL",
        "outputId": "21267ea3-5719-4ed5-ab20-4866656f542b"
      },
      "execution_count": 17,
      "outputs": [
        {
          "output_type": "stream",
          "name": "stdout",
          "text": [
            "3 1 \n"
          ]
        }
      ]
    }
  ]
}