{
 "cells": [
  {
   "cell_type": "markdown",
   "metadata": {},
   "source": [
    "\n",
    "💡 **Question 1**\n",
    "\n",
    "The **Fibonacci numbers**, commonly denoted `F(n)` form a sequence, called the **Fibonacci sequence**, such that each number is the sum of the two preceding ones, starting from `0` and `1`. That is,\n",
    "\n",
    "```\n",
    "F(0) = 0, F(1) = 1\n",
    "F(n) = F(n - 1) + F(n - 2), for n > 1.\n",
    "\n",
    "```\n",
    "\n",
    "Given `n`, calculate `F(n)`.\n",
    "\n",
    "**Explanation :** \n",
    "\n",
    "The Fibonacci numbers are the numbers in the following integer sequence.\n",
    "\n",
    "0, 1, 1, 2, 3, 5, 8, 13, 21, 34, 55, 89, 144, ……..\n",
    "\n",
    "In mathematical terms, the sequence Fn of Fibonacci numbers is defined by the recurrence relation\n",
    "\n"
   ]
  },
  {
   "cell_type": "code",
   "execution_count": 2,
   "metadata": {},
   "outputs": [
    {
     "name": "stdout",
     "output_type": "stream",
     "text": [
      "5\n"
     ]
    }
   ],
   "source": [
    "def fibonacci(n):\n",
    "    if n==0:\n",
    "        return 0\n",
    "    elif n==1:\n",
    "        return 1\n",
    "    else:\n",
    "        return fibonacci(n-1)+fibonacci(n-2)\n",
    "r=fibonacci(5)\n",
    "print(r)"
   ]
  },
  {
   "cell_type": "code",
   "execution_count": 5,
   "metadata": {},
   "outputs": [
    {
     "name": "stdout",
     "output_type": "stream",
     "text": [
      "[0, 1, 1, 2, 3, 5, 8, 13, 21, 34]\n"
     ]
    }
   ],
   "source": [
    "class Solution:\n",
    "    def __init__(self):\n",
    "        self.memo = {}\n",
    "\n",
    "    def fib(self, n: int) -> int:\n",
    "        if n in self.memo:\n",
    "            return self.memo[n]\n",
    "        if n == 0:\n",
    "            result = 0\n",
    "        elif n == 1:\n",
    "            result = 1\n",
    "        else:\n",
    "            result = self.fib(n-1) + self.fib(n-2)\n",
    "        self.memo[n] = result\n",
    "        return result\n",
    "\n",
    "    def fibonacci_series(self, n: int):\n",
    "        series = []\n",
    "        for i in range(n):\n",
    "            series.append(self.fib(i))\n",
    "        return series\n",
    "\n",
    "fub = Solution()\n",
    "print(fub.fibonacci_series(10))\n"
   ]
  },
  {
   "cell_type": "markdown",
   "metadata": {},
   "source": [
    "\n",
    "💡 **Question 2**\n",
    "\n",
    "Given an integer `n`, return *`true` if it is a power of four. Otherwise, return `false`*.\n",
    "\n",
    "An integer `n` is a power of four, if there exists an integer `x` such that `n == 4x`.\n",
    "\n",
    "**Example 1:**\n",
    "Input: n = 16\n",
    "Output: true\n",
    "\n",
    "Input: n = 5\n",
    "Output: false"
   ]
  },
  {
   "cell_type": "code",
   "execution_count": 7,
   "metadata": {},
   "outputs": [
    {
     "name": "stdout",
     "output_type": "stream",
     "text": [
      "False\n"
     ]
    }
   ],
   "source": [
    "class Solution:\n",
    "    def isPowerOfFour(self,n:int) -> bool:\n",
    "        if (n ==1 ): return True\n",
    "        if (n< 1 or n% 4 !=0): return False\n",
    "        return self.isPowerOfFour(n// 4)\n",
    "\n",
    "fub = Solution()\n",
    "print(fub.isPowerOfFour(10))"
   ]
  },
  {
   "cell_type": "code",
   "execution_count": null,
   "metadata": {},
   "outputs": [],
   "source": []
  }
 ],
 "metadata": {
  "kernelspec": {
   "display_name": "Python 3.8.10 64-bit",
   "language": "python",
   "name": "python3"
  },
  "language_info": {
   "codemirror_mode": {
    "name": "ipython",
    "version": 3
   },
   "file_extension": ".py",
   "mimetype": "text/x-python",
   "name": "python",
   "nbconvert_exporter": "python",
   "pygments_lexer": "ipython3",
   "version": "3.8.10"
  },
  "orig_nbformat": 4,
  "vscode": {
   "interpreter": {
    "hash": "e7370f93d1d0cde622a1f8e1c04877d8463912d04d973331ad4851f04de6915a"
   }
  }
 },
 "nbformat": 4,
 "nbformat_minor": 2
}
